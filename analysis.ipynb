{
 "cells": [
  {
   "cell_type": "code",
   "execution_count": 42,
   "metadata": {},
   "outputs": [],
   "source": [
    "import pandas as pd\n",
    "from matplotlib import pyplot as plt"
   ]
  },
  {
   "cell_type": "code",
   "execution_count": 43,
   "metadata": {},
   "outputs": [],
   "source": [
    "filename = 'results.csv'\n",
    "df = pd.read_csv(filename, index_col=0)\n"
   ]
  },
  {
   "cell_type": "code",
   "execution_count": 44,
   "metadata": {},
   "outputs": [
    {
     "data": {
      "text/html": [
       "<div>\n",
       "<style scoped>\n",
       "    .dataframe tbody tr th:only-of-type {\n",
       "        vertical-align: middle;\n",
       "    }\n",
       "\n",
       "    .dataframe tbody tr th {\n",
       "        vertical-align: top;\n",
       "    }\n",
       "\n",
       "    .dataframe thead th {\n",
       "        text-align: right;\n",
       "    }\n",
       "</style>\n",
       "<table border=\"1\" class=\"dataframe\">\n",
       "  <thead>\n",
       "    <tr style=\"text-align: right;\">\n",
       "      <th></th>\n",
       "      <th>OriginalQuestion</th>\n",
       "      <th>TypoQuestion</th>\n",
       "      <th>TargetWord</th>\n",
       "      <th>TypoWord</th>\n",
       "      <th>EditDistance</th>\n",
       "      <th>TargetStartIndex</th>\n",
       "      <th>TargetEndIndex</th>\n",
       "      <th>p</th>\n",
       "      <th>LogProbWord</th>\n",
       "      <th>Question</th>\n",
       "      <th>StartIndex</th>\n",
       "      <th>EndIndex</th>\n",
       "      <th>AnswerChoices</th>\n",
       "      <th>CorrectAnswer</th>\n",
       "      <th>Answer</th>\n",
       "      <th>Correct</th>\n",
       "      <th>Valid</th>\n",
       "    </tr>\n",
       "  </thead>\n",
       "  <tbody>\n",
       "    <tr>\n",
       "      <th>0</th>\n",
       "      <td>The sanctions against the school were a punish...</td>\n",
       "      <td>The sanctions against the school were a punish...</td>\n",
       "      <td>punishing</td>\n",
       "      <td>punishing</td>\n",
       "      <td>0</td>\n",
       "      <td>40</td>\n",
       "      <td>49</td>\n",
       "      <td>0.0</td>\n",
       "      <td>0.000004</td>\n",
       "      <td>The sanctions against the school were a punish...</td>\n",
       "      <td>40</td>\n",
       "      <td>49</td>\n",
       "      <td>['A) ignore', 'B) enforce', 'C) authoritarian'...</td>\n",
       "      <td>A) ignore</td>\n",
       "      <td>B) enforce</td>\n",
       "      <td>False</td>\n",
       "      <td>True</td>\n",
       "    </tr>\n",
       "    <tr>\n",
       "      <th>1</th>\n",
       "      <td>The sanctions against the school were a punish...</td>\n",
       "      <td>The sanctions against the school were a punish...</td>\n",
       "      <td>punishing</td>\n",
       "      <td>punishing</td>\n",
       "      <td>0</td>\n",
       "      <td>40</td>\n",
       "      <td>49</td>\n",
       "      <td>0.1</td>\n",
       "      <td>0.000004</td>\n",
       "      <td>The sanctions against the school were a punish...</td>\n",
       "      <td>40</td>\n",
       "      <td>49</td>\n",
       "      <td>['A) ignore', 'B) enforce', 'C) authoritarian'...</td>\n",
       "      <td>A) ignore</td>\n",
       "      <td>B) enforce</td>\n",
       "      <td>False</td>\n",
       "      <td>True</td>\n",
       "    </tr>\n",
       "    <tr>\n",
       "      <th>2</th>\n",
       "      <td>The sanctions against the school were a punish...</td>\n",
       "      <td>The sanctions against the school were a punish...</td>\n",
       "      <td>punishing</td>\n",
       "      <td>punishing</td>\n",
       "      <td>0</td>\n",
       "      <td>40</td>\n",
       "      <td>49</td>\n",
       "      <td>0.2</td>\n",
       "      <td>0.000004</td>\n",
       "      <td>The sanctions against the school were a punish...</td>\n",
       "      <td>40</td>\n",
       "      <td>49</td>\n",
       "      <td>['A) ignore', 'B) enforce', 'C) authoritarian'...</td>\n",
       "      <td>A) ignore</td>\n",
       "      <td>B) enforce</td>\n",
       "      <td>False</td>\n",
       "      <td>True</td>\n",
       "    </tr>\n",
       "    <tr>\n",
       "      <th>3</th>\n",
       "      <td>The sanctions against the school were a punish...</td>\n",
       "      <td>The sanctions against the school were a punnhi...</td>\n",
       "      <td>punishing</td>\n",
       "      <td>punnhihng</td>\n",
       "      <td>3</td>\n",
       "      <td>40</td>\n",
       "      <td>49</td>\n",
       "      <td>0.4</td>\n",
       "      <td>0.000004</td>\n",
       "      <td>The sanctions against the school were a punish...</td>\n",
       "      <td>40</td>\n",
       "      <td>49</td>\n",
       "      <td>['A) ignore', 'B) enforce', 'C) authoritarian'...</td>\n",
       "      <td>A) ignore</td>\n",
       "      <td>B) enforce</td>\n",
       "      <td>False</td>\n",
       "      <td>True</td>\n",
       "    </tr>\n",
       "    <tr>\n",
       "      <th>4</th>\n",
       "      <td>The sanctions against the school were a punish...</td>\n",
       "      <td>The sanctions against the school were a pihhq ...</td>\n",
       "      <td>punishing</td>\n",
       "      <td>pihhq</td>\n",
       "      <td>6</td>\n",
       "      <td>40</td>\n",
       "      <td>45</td>\n",
       "      <td>0.8</td>\n",
       "      <td>0.000004</td>\n",
       "      <td>The sanctions against the school were a punish...</td>\n",
       "      <td>40</td>\n",
       "      <td>49</td>\n",
       "      <td>['A) ignore', 'B) enforce', 'C) authoritarian'...</td>\n",
       "      <td>A) ignore</td>\n",
       "      <td>B) enforce</td>\n",
       "      <td>False</td>\n",
       "      <td>True</td>\n",
       "    </tr>\n",
       "  </tbody>\n",
       "</table>\n",
       "</div>"
      ],
      "text/plain": [
       "                                    OriginalQuestion  \\\n",
       "0  The sanctions against the school were a punish...   \n",
       "1  The sanctions against the school were a punish...   \n",
       "2  The sanctions against the school were a punish...   \n",
       "3  The sanctions against the school were a punish...   \n",
       "4  The sanctions against the school were a punish...   \n",
       "\n",
       "                                        TypoQuestion TargetWord   TypoWord  \\\n",
       "0  The sanctions against the school were a punish...  punishing  punishing   \n",
       "1  The sanctions against the school were a punish...  punishing  punishing   \n",
       "2  The sanctions against the school were a punish...  punishing  punishing   \n",
       "3  The sanctions against the school were a punnhi...  punishing  punnhihng   \n",
       "4  The sanctions against the school were a pihhq ...  punishing      pihhq   \n",
       "\n",
       "   EditDistance  TargetStartIndex  TargetEndIndex    p  LogProbWord  \\\n",
       "0             0                40              49  0.0     0.000004   \n",
       "1             0                40              49  0.1     0.000004   \n",
       "2             0                40              49  0.2     0.000004   \n",
       "3             3                40              49  0.4     0.000004   \n",
       "4             6                40              45  0.8     0.000004   \n",
       "\n",
       "                                            Question  StartIndex  EndIndex  \\\n",
       "0  The sanctions against the school were a punish...          40        49   \n",
       "1  The sanctions against the school were a punish...          40        49   \n",
       "2  The sanctions against the school were a punish...          40        49   \n",
       "3  The sanctions against the school were a punish...          40        49   \n",
       "4  The sanctions against the school were a punish...          40        49   \n",
       "\n",
       "                                       AnswerChoices CorrectAnswer  \\\n",
       "0  ['A) ignore', 'B) enforce', 'C) authoritarian'...     A) ignore   \n",
       "1  ['A) ignore', 'B) enforce', 'C) authoritarian'...     A) ignore   \n",
       "2  ['A) ignore', 'B) enforce', 'C) authoritarian'...     A) ignore   \n",
       "3  ['A) ignore', 'B) enforce', 'C) authoritarian'...     A) ignore   \n",
       "4  ['A) ignore', 'B) enforce', 'C) authoritarian'...     A) ignore   \n",
       "\n",
       "       Answer  Correct  Valid  \n",
       "0  B) enforce    False   True  \n",
       "1  B) enforce    False   True  \n",
       "2  B) enforce    False   True  \n",
       "3  B) enforce    False   True  \n",
       "4  B) enforce    False   True  "
      ]
     },
     "execution_count": 44,
     "metadata": {},
     "output_type": "execute_result"
    }
   ],
   "source": [
    "df.head()"
   ]
  },
  {
   "cell_type": "code",
   "execution_count": 45,
   "metadata": {},
   "outputs": [],
   "source": [
    "df['NormalizedEditDistance'] = df.apply(lambda row: row['EditDistance'] / (row['EndIndex'] - row['StartIndex']), axis=1)"
   ]
  },
  {
   "cell_type": "code",
   "execution_count": null,
   "metadata": {},
   "outputs": [],
   "source": [
    "df[['Correct', 'LogProbWord']].groupby('LogProbWord').mean().sort_values('LogProbWord').head(50)"
   ]
  },
  {
   "cell_type": "code",
   "execution_count": 48,
   "metadata": {},
   "outputs": [
    {
     "data": {
      "text/html": [
       "<div>\n",
       "<style scoped>\n",
       "    .dataframe tbody tr th:only-of-type {\n",
       "        vertical-align: middle;\n",
       "    }\n",
       "\n",
       "    .dataframe tbody tr th {\n",
       "        vertical-align: top;\n",
       "    }\n",
       "\n",
       "    .dataframe thead th {\n",
       "        text-align: right;\n",
       "    }\n",
       "</style>\n",
       "<table border=\"1\" class=\"dataframe\">\n",
       "  <thead>\n",
       "    <tr style=\"text-align: right;\">\n",
       "      <th></th>\n",
       "      <th>Correct</th>\n",
       "    </tr>\n",
       "    <tr>\n",
       "      <th>EditDistance</th>\n",
       "      <th></th>\n",
       "    </tr>\n",
       "  </thead>\n",
       "  <tbody>\n",
       "    <tr>\n",
       "      <th>0</th>\n",
       "      <td>0.786106</td>\n",
       "    </tr>\n",
       "    <tr>\n",
       "      <th>1</th>\n",
       "      <td>0.750000</td>\n",
       "    </tr>\n",
       "    <tr>\n",
       "      <th>2</th>\n",
       "      <td>0.752525</td>\n",
       "    </tr>\n",
       "    <tr>\n",
       "      <th>3</th>\n",
       "      <td>0.714286</td>\n",
       "    </tr>\n",
       "    <tr>\n",
       "      <th>4</th>\n",
       "      <td>0.759690</td>\n",
       "    </tr>\n",
       "    <tr>\n",
       "      <th>5</th>\n",
       "      <td>0.763889</td>\n",
       "    </tr>\n",
       "    <tr>\n",
       "      <th>6</th>\n",
       "      <td>0.655172</td>\n",
       "    </tr>\n",
       "    <tr>\n",
       "      <th>7</th>\n",
       "      <td>0.809524</td>\n",
       "    </tr>\n",
       "    <tr>\n",
       "      <th>8</th>\n",
       "      <td>0.653846</td>\n",
       "    </tr>\n",
       "    <tr>\n",
       "      <th>9</th>\n",
       "      <td>0.642857</td>\n",
       "    </tr>\n",
       "    <tr>\n",
       "      <th>10</th>\n",
       "      <td>0.571429</td>\n",
       "    </tr>\n",
       "    <tr>\n",
       "      <th>11</th>\n",
       "      <td>0.857143</td>\n",
       "    </tr>\n",
       "    <tr>\n",
       "      <th>12</th>\n",
       "      <td>0.285714</td>\n",
       "    </tr>\n",
       "    <tr>\n",
       "      <th>13</th>\n",
       "      <td>0.500000</td>\n",
       "    </tr>\n",
       "    <tr>\n",
       "      <th>14</th>\n",
       "      <td>1.000000</td>\n",
       "    </tr>\n",
       "    <tr>\n",
       "      <th>15</th>\n",
       "      <td>0.000000</td>\n",
       "    </tr>\n",
       "    <tr>\n",
       "      <th>16</th>\n",
       "      <td>0.000000</td>\n",
       "    </tr>\n",
       "    <tr>\n",
       "      <th>18</th>\n",
       "      <td>1.000000</td>\n",
       "    </tr>\n",
       "  </tbody>\n",
       "</table>\n",
       "</div>"
      ],
      "text/plain": [
       "               Correct\n",
       "EditDistance          \n",
       "0             0.786106\n",
       "1             0.750000\n",
       "2             0.752525\n",
       "3             0.714286\n",
       "4             0.759690\n",
       "5             0.763889\n",
       "6             0.655172\n",
       "7             0.809524\n",
       "8             0.653846\n",
       "9             0.642857\n",
       "10            0.571429\n",
       "11            0.857143\n",
       "12            0.285714\n",
       "13            0.500000\n",
       "14            1.000000\n",
       "15            0.000000\n",
       "16            0.000000\n",
       "18            1.000000"
      ]
     },
     "execution_count": 48,
     "metadata": {},
     "output_type": "execute_result"
    }
   ],
   "source": [
    "df[['Correct', 'EditDistance']].groupby('EditDistance').mean().sort_values('EditDistance')"
   ]
  },
  {
   "cell_type": "code",
   "execution_count": 57,
   "metadata": {},
   "outputs": [
    {
     "data": {
      "text/plain": [
       "(0.26448615757167565, 0.29366474392896297)"
      ]
     },
     "execution_count": 57,
     "metadata": {},
     "output_type": "execute_result"
    }
   ],
   "source": [
    "df[df['Correct'] == True]['NormalizedEditDistance'].mean(), df[df['Correct'] == False]['NormalizedEditDistance'].mean()"
   ]
  },
  {
   "cell_type": "code",
   "execution_count": 56,
   "metadata": {},
   "outputs": [
    {
     "data": {
      "text/plain": [
       "0.29366474392896297"
      ]
     },
     "execution_count": 56,
     "metadata": {},
     "output_type": "execute_result"
    }
   ],
   "source": [
    "df[df['Correct'] == True]['NormalizedEditDistance'].mean(), df[df['Correct'] == False]['NormalizedEditDistance'].mean()\n"
   ]
  },
  {
   "cell_type": "code",
   "execution_count": 58,
   "metadata": {},
   "outputs": [
    {
     "data": {
      "text/plain": [
       "(2.0097517730496453, 2.486559139784946)"
      ]
     },
     "execution_count": 58,
     "metadata": {},
     "output_type": "execute_result"
    }
   ],
   "source": [
    "df[df['Correct'] == True]['EditDistance'].mean(), df[df['Correct'] == False]['EditDistance'].mean()\n"
   ]
  },
  {
   "cell_type": "code",
   "execution_count": 59,
   "metadata": {},
   "outputs": [
    {
     "data": {
      "text/plain": [
       "(0.07475913193703537, 0.054511348447474565)"
      ]
     },
     "execution_count": 59,
     "metadata": {},
     "output_type": "execute_result"
    }
   ],
   "source": [
    "df[df['Correct'] == True]['LogProbWord'].mean(), df[df['Correct'] == False]['LogProbWord'].mean()\n"
   ]
  },
  {
   "cell_type": "code",
   "execution_count": 60,
   "metadata": {},
   "outputs": [
    {
     "data": {
      "text/plain": [
       "(0.2921985815602837, 0.32365591397849464)"
      ]
     },
     "execution_count": 60,
     "metadata": {},
     "output_type": "execute_result"
    }
   ],
   "source": [
    "df[df['Correct'] == True]['p'].mean(), df[df['Correct'] == False]['p'].mean()\n"
   ]
  },
  {
   "cell_type": "code",
   "execution_count": null,
   "metadata": {},
   "outputs": [],
   "source": []
  },
  {
   "cell_type": "markdown",
   "metadata": {},
   "source": [
    "### Idenfity where typo makes answer incorrect"
   ]
  },
  {
   "cell_type": "code",
   "execution_count": 61,
   "metadata": {},
   "outputs": [
    {
     "data": {
      "text/html": [
       "<div>\n",
       "<style scoped>\n",
       "    .dataframe tbody tr th:only-of-type {\n",
       "        vertical-align: middle;\n",
       "    }\n",
       "\n",
       "    .dataframe tbody tr th {\n",
       "        vertical-align: top;\n",
       "    }\n",
       "\n",
       "    .dataframe thead th {\n",
       "        text-align: right;\n",
       "    }\n",
       "</style>\n",
       "<table border=\"1\" class=\"dataframe\">\n",
       "  <thead>\n",
       "    <tr style=\"text-align: right;\">\n",
       "      <th></th>\n",
       "      <th>OriginalQuestion</th>\n",
       "      <th>TypoQuestion</th>\n",
       "      <th>TargetWord</th>\n",
       "      <th>TypoWord</th>\n",
       "      <th>EditDistance</th>\n",
       "      <th>TargetStartIndex</th>\n",
       "      <th>TargetEndIndex</th>\n",
       "      <th>p</th>\n",
       "      <th>LogProbWord</th>\n",
       "      <th>Question</th>\n",
       "      <th>StartIndex</th>\n",
       "      <th>EndIndex</th>\n",
       "      <th>AnswerChoices</th>\n",
       "      <th>CorrectAnswer</th>\n",
       "      <th>Answer</th>\n",
       "      <th>Correct</th>\n",
       "      <th>Valid</th>\n",
       "      <th>NormalizedEditDistance</th>\n",
       "    </tr>\n",
       "  </thead>\n",
       "  <tbody>\n",
       "    <tr>\n",
       "      <th>0</th>\n",
       "      <td>The sanctions against the school were a punish...</td>\n",
       "      <td>The sanctions against the school were a punish...</td>\n",
       "      <td>punishing</td>\n",
       "      <td>punishing</td>\n",
       "      <td>0</td>\n",
       "      <td>40</td>\n",
       "      <td>49</td>\n",
       "      <td>0.0</td>\n",
       "      <td>0.000004</td>\n",
       "      <td>The sanctions against the school were a punish...</td>\n",
       "      <td>40</td>\n",
       "      <td>49</td>\n",
       "      <td>['A) ignore', 'B) enforce', 'C) authoritarian'...</td>\n",
       "      <td>A) ignore</td>\n",
       "      <td>B) enforce</td>\n",
       "      <td>False</td>\n",
       "      <td>True</td>\n",
       "      <td>0.000000</td>\n",
       "    </tr>\n",
       "    <tr>\n",
       "      <th>1</th>\n",
       "      <td>The sanctions against the school were a punish...</td>\n",
       "      <td>The sanctions against the school were a punish...</td>\n",
       "      <td>punishing</td>\n",
       "      <td>punishing</td>\n",
       "      <td>0</td>\n",
       "      <td>40</td>\n",
       "      <td>49</td>\n",
       "      <td>0.1</td>\n",
       "      <td>0.000004</td>\n",
       "      <td>The sanctions against the school were a punish...</td>\n",
       "      <td>40</td>\n",
       "      <td>49</td>\n",
       "      <td>['A) ignore', 'B) enforce', 'C) authoritarian'...</td>\n",
       "      <td>A) ignore</td>\n",
       "      <td>B) enforce</td>\n",
       "      <td>False</td>\n",
       "      <td>True</td>\n",
       "      <td>0.000000</td>\n",
       "    </tr>\n",
       "    <tr>\n",
       "      <th>2</th>\n",
       "      <td>The sanctions against the school were a punish...</td>\n",
       "      <td>The sanctions against the school were a punish...</td>\n",
       "      <td>punishing</td>\n",
       "      <td>punishing</td>\n",
       "      <td>0</td>\n",
       "      <td>40</td>\n",
       "      <td>49</td>\n",
       "      <td>0.2</td>\n",
       "      <td>0.000004</td>\n",
       "      <td>The sanctions against the school were a punish...</td>\n",
       "      <td>40</td>\n",
       "      <td>49</td>\n",
       "      <td>['A) ignore', 'B) enforce', 'C) authoritarian'...</td>\n",
       "      <td>A) ignore</td>\n",
       "      <td>B) enforce</td>\n",
       "      <td>False</td>\n",
       "      <td>True</td>\n",
       "      <td>0.000000</td>\n",
       "    </tr>\n",
       "    <tr>\n",
       "      <th>3</th>\n",
       "      <td>The sanctions against the school were a punish...</td>\n",
       "      <td>The sanctions against the school were a punnhi...</td>\n",
       "      <td>punishing</td>\n",
       "      <td>punnhihng</td>\n",
       "      <td>3</td>\n",
       "      <td>40</td>\n",
       "      <td>49</td>\n",
       "      <td>0.4</td>\n",
       "      <td>0.000004</td>\n",
       "      <td>The sanctions against the school were a punish...</td>\n",
       "      <td>40</td>\n",
       "      <td>49</td>\n",
       "      <td>['A) ignore', 'B) enforce', 'C) authoritarian'...</td>\n",
       "      <td>A) ignore</td>\n",
       "      <td>B) enforce</td>\n",
       "      <td>False</td>\n",
       "      <td>True</td>\n",
       "      <td>0.333333</td>\n",
       "    </tr>\n",
       "    <tr>\n",
       "      <th>4</th>\n",
       "      <td>The sanctions against the school were a punish...</td>\n",
       "      <td>The sanctions against the school were a pihhq ...</td>\n",
       "      <td>punishing</td>\n",
       "      <td>pihhq</td>\n",
       "      <td>6</td>\n",
       "      <td>40</td>\n",
       "      <td>45</td>\n",
       "      <td>0.8</td>\n",
       "      <td>0.000004</td>\n",
       "      <td>The sanctions against the school were a punish...</td>\n",
       "      <td>40</td>\n",
       "      <td>49</td>\n",
       "      <td>['A) ignore', 'B) enforce', 'C) authoritarian'...</td>\n",
       "      <td>A) ignore</td>\n",
       "      <td>B) enforce</td>\n",
       "      <td>False</td>\n",
       "      <td>True</td>\n",
       "      <td>0.666667</td>\n",
       "    </tr>\n",
       "  </tbody>\n",
       "</table>\n",
       "</div>"
      ],
      "text/plain": [
       "                                    OriginalQuestion  \\\n",
       "0  The sanctions against the school were a punish...   \n",
       "1  The sanctions against the school were a punish...   \n",
       "2  The sanctions against the school were a punish...   \n",
       "3  The sanctions against the school were a punish...   \n",
       "4  The sanctions against the school were a punish...   \n",
       "\n",
       "                                        TypoQuestion TargetWord   TypoWord  \\\n",
       "0  The sanctions against the school were a punish...  punishing  punishing   \n",
       "1  The sanctions against the school were a punish...  punishing  punishing   \n",
       "2  The sanctions against the school were a punish...  punishing  punishing   \n",
       "3  The sanctions against the school were a punnhi...  punishing  punnhihng   \n",
       "4  The sanctions against the school were a pihhq ...  punishing      pihhq   \n",
       "\n",
       "   EditDistance  TargetStartIndex  TargetEndIndex    p  LogProbWord  \\\n",
       "0             0                40              49  0.0     0.000004   \n",
       "1             0                40              49  0.1     0.000004   \n",
       "2             0                40              49  0.2     0.000004   \n",
       "3             3                40              49  0.4     0.000004   \n",
       "4             6                40              45  0.8     0.000004   \n",
       "\n",
       "                                            Question  StartIndex  EndIndex  \\\n",
       "0  The sanctions against the school were a punish...          40        49   \n",
       "1  The sanctions against the school were a punish...          40        49   \n",
       "2  The sanctions against the school were a punish...          40        49   \n",
       "3  The sanctions against the school were a punish...          40        49   \n",
       "4  The sanctions against the school were a punish...          40        49   \n",
       "\n",
       "                                       AnswerChoices CorrectAnswer  \\\n",
       "0  ['A) ignore', 'B) enforce', 'C) authoritarian'...     A) ignore   \n",
       "1  ['A) ignore', 'B) enforce', 'C) authoritarian'...     A) ignore   \n",
       "2  ['A) ignore', 'B) enforce', 'C) authoritarian'...     A) ignore   \n",
       "3  ['A) ignore', 'B) enforce', 'C) authoritarian'...     A) ignore   \n",
       "4  ['A) ignore', 'B) enforce', 'C) authoritarian'...     A) ignore   \n",
       "\n",
       "       Answer  Correct  Valid  NormalizedEditDistance  \n",
       "0  B) enforce    False   True                0.000000  \n",
       "1  B) enforce    False   True                0.000000  \n",
       "2  B) enforce    False   True                0.000000  \n",
       "3  B) enforce    False   True                0.333333  \n",
       "4  B) enforce    False   True                0.666667  "
      ]
     },
     "execution_count": 61,
     "metadata": {},
     "output_type": "execute_result"
    }
   ],
   "source": [
    "df.head()"
   ]
  },
  {
   "cell_type": "code",
   "execution_count": 74,
   "metadata": {},
   "outputs": [
    {
     "name": "stdout",
     "output_type": "stream",
     "text": [
      "\n",
      "0\n",
      "\n",
      "5\n",
      "Correct: B) populated areas\n",
      "\n",
      "10\n",
      "\n",
      "15\n",
      "Correct: D) atlas\n",
      "\n",
      "20\n",
      "Correct: C) natural habitat\n",
      "\n",
      "25\n",
      "Correct: B) refrigerator\n",
      "\n",
      "30\n",
      "Correct: D) business sector\n",
      "\n",
      "35\n",
      "Correct: C) garden\n",
      "\n",
      "40\n",
      "Correct: A) loss of heat\n",
      "41\n",
      "Incorrect: E) calm down\n",
      "\n",
      "45\n",
      "Correct: C) kitchen\n",
      "\n",
      "50\n",
      "Correct: D) Louisiana\n",
      "\n",
      "55\n",
      "Correct: D) food court\n",
      "\n",
      "60\n",
      "\n",
      "65\n",
      "\n",
      "70\n",
      "\n",
      "75\n",
      "Correct: D) computer network\n",
      "\n",
      "80\n",
      "\n",
      "85\n",
      "Correct: C) being found out\n",
      "\n",
      "90\n",
      "Correct: A) television\n",
      "\n",
      "95\n",
      "Correct: B) subdivision\n",
      "\n",
      "100\n",
      "Correct: D) light fire\n",
      "\n",
      "105\n",
      "Correct: C) saturated with water\n",
      "108\n",
      "Incorrect: E) crumpled\n",
      "\n",
      "110\n",
      "\n",
      "115\n",
      "Correct: E) government\n",
      "118\n",
      "Incorrect: B) white house\n",
      "\n",
      "120\n",
      "Correct: D) wildlife refuge\n",
      "123\n",
      "Incorrect: B) open country\n",
      "\n",
      "125\n",
      "Correct: B) dangerous\n",
      "\n",
      "130\n",
      "Correct: E) social bonding\n",
      "131\n",
      "Incorrect: B) communication\n",
      "\n",
      "135\n",
      "\n",
      "140\n",
      "\n",
      "145\n",
      "Correct: D) proximity\n",
      "\n",
      "150\n",
      "Correct: A) demonstration\n",
      "\n",
      "155\n",
      "Correct: A) military base\n",
      "\n",
      "160\n",
      "Correct: C) feel safe\n",
      "\n",
      "165\n",
      "\n",
      "170\n",
      "Correct: A) headache\n",
      "\n",
      "175\n",
      "\n",
      "180\n",
      "Correct: C) millpond\n",
      "182\n",
      "Incorrect: E) lake or river\n",
      "\n",
      "185\n",
      "Correct: A) reach tentative agreement\n",
      "\n",
      "190\n",
      "Correct: A) under rocks\n",
      "\n",
      "195\n",
      "Correct: D) heal\n",
      "\n",
      "200\n",
      "\n",
      "205\n",
      "Correct: C) subordinate\n",
      "\n",
      "210\n",
      "Correct: B) mall\n",
      "212\n",
      "Incorrect: D) library\n",
      "\n",
      "215\n",
      "Correct: D) web page\n",
      "\n",
      "220\n",
      "Correct: D) Connecticut\n",
      "\n",
      "225\n",
      "Correct: A) circus\n",
      "\n",
      "230\n",
      "Correct: A) gain weight\n",
      "\n",
      "235\n",
      "Correct: B) construction site\n",
      "\n",
      "240\n",
      "Correct: C) progress\n",
      "\n",
      "245\n",
      "Correct: C) fun\n",
      "\n",
      "250\n",
      "Correct: E) desk\n",
      "\n",
      "255\n",
      "Correct: B) satisfaction\n",
      "\n",
      "260\n",
      "Correct: E) freezer\n",
      "\n",
      "265\n",
      "Correct: A) violence\n",
      "\n",
      "270\n",
      "\n",
      "275\n",
      "Correct: A) reality\n",
      "\n",
      "280\n",
      "Correct: D) parking lot\n",
      "\n",
      "285\n",
      "\n",
      "290\n",
      "Correct: B) finger\n",
      "\n",
      "295\n",
      "Correct: C) stress\n",
      "298\n",
      "Incorrect: D) boredom\n",
      "\n",
      "300\n",
      "Correct: C) office\n",
      "303\n",
      "Incorrect: A) desk drawer\n",
      "\n",
      "305\n",
      "Correct: E) present bill\n",
      "\n",
      "310\n",
      "Correct: A) go to church\n",
      "313\n",
      "Incorrect: D) paying attention\n",
      "\n",
      "315\n",
      "Correct: D) field of flowers\n",
      "\n",
      "320\n",
      "Correct: D) closet\n",
      "\n",
      "325\n",
      "Correct: C) fly\n",
      "328\n",
      "Incorrect: A) carried by people\n",
      "\n",
      "330\n",
      "Correct: E) hands\n",
      "\n",
      "335\n",
      "\n",
      "340\n",
      "Correct: A) suicide\n",
      "\n",
      "345\n",
      "Correct: D) missing out\n",
      "\n",
      "350\n",
      "Correct: D) garden\n",
      "\n",
      "355\n",
      "Correct: B) friend's house\n",
      "\n",
      "360\n",
      "Correct: A) pub\n",
      "\n",
      "365\n",
      "Correct: E) refrigerator\n",
      "\n",
      "370\n",
      "Correct: B) France\n",
      "\n",
      "375\n",
      "Correct: B) feel pressure\n",
      "\n",
      "380\n",
      "Correct: D) end of line\n",
      "\n",
      "385\n",
      "Correct: E) neatness\n",
      "\n",
      "390\n",
      "\n",
      "395\n",
      "\n",
      "400\n",
      "Correct: C) united states\n",
      "\n",
      "405\n",
      "Correct: C) have tools\n",
      "\n",
      "410\n",
      "Correct: C) aircraft carrier\n",
      "\n",
      "415\n",
      "Correct: A) burlap sack\n",
      "\n",
      "420\n",
      "\n",
      "425\n",
      "Correct: B) arrest\n",
      "426\n",
      "Incorrect: D) go to jail\n",
      "\n",
      "430\n",
      "Correct: B) applaud\n",
      "\n",
      "435\n",
      "Correct: B) supermarket\n",
      "\n",
      "440\n",
      "\n",
      "445\n",
      "Correct: A) prison\n",
      "\n",
      "450\n",
      "\n",
      "455\n",
      "Correct: D) outside\n",
      "458\n",
      "Incorrect: A) playground\n",
      "\n",
      "460\n",
      "Correct: A) home\n",
      "\n",
      "465\n",
      "Correct: E) falling down\n",
      "\n",
      "470\n",
      "Correct: A) wage war\n",
      "\n",
      "475\n",
      "\n",
      "480\n",
      "Correct: E) work\n",
      "\n",
      "485\n",
      "Correct: A) nailed\n",
      "\n",
      "490\n",
      "\n",
      "495\n",
      "Correct: B) not noticeable\n",
      "\n",
      "500\n",
      "\n",
      "505\n",
      "\n",
      "510\n",
      "Correct: C) happiness\n",
      "512\n",
      "Incorrect: D) frustration\n",
      "\n",
      "515\n",
      "Correct: E) high school band\n",
      "\n",
      "520\n",
      "Correct: A) winners and losers\n",
      "\n",
      "525\n",
      "Correct: A) insubstantial\n",
      "\n",
      "530\n",
      "Correct: A) school\n",
      "533\n",
      "Incorrect: D) print shop\n",
      "\n",
      "535\n",
      "Correct: B) have fun\n",
      "537\n",
      "Incorrect: D) winning\n",
      "\n",
      "540\n",
      "Correct: B) graph\n",
      "541\n",
      "Incorrect: E) play\n",
      "\n",
      "545\n",
      "\n",
      "550\n",
      "\n",
      "555\n",
      "Correct: C) closer\n",
      "\n",
      "560\n",
      "\n",
      "565\n",
      "Correct: B) wave goodbye\n",
      "\n",
      "570\n",
      "Correct: A) cook dinner\n",
      "\n",
      "575\n",
      "Correct: B) feel angry\n",
      "\n",
      "580\n",
      "Correct: D) think creatively\n",
      "\n",
      "585\n",
      "\n",
      "590\n",
      "\n",
      "595\n",
      "Correct: C) engine\n",
      "\n",
      "600\n",
      "Correct: B) own cars\n",
      "\n",
      "605\n",
      "Correct: B) names\n",
      "\n",
      "610\n",
      "\n",
      "615\n",
      "Correct: C) pond\n",
      "\n",
      "620\n",
      "Correct: E) hand written\n",
      "\n",
      "625\n",
      "Correct: A) look beautiful\n",
      "\n",
      "630\n",
      "Correct: A) communicating with others\n",
      "\n",
      "635\n",
      "Correct: D) learn\n",
      "\n",
      "640\n",
      "Correct: E) wasted time\n",
      "\n",
      "645\n",
      "Correct: C) outside\n",
      "\n",
      "650\n",
      "Correct: E) inaccurate\n",
      "\n",
      "655\n",
      "\n",
      "660\n",
      "Correct: D) electric refrigerator\n",
      "\n",
      "665\n",
      "\n",
      "670\n",
      "Correct: B) home\n",
      "\n",
      "675\n",
      "Correct: E) car\n",
      "\n",
      "680\n",
      "Correct: D) movie\n",
      "\n",
      "685\n",
      "Correct: D) field\n",
      "686\n",
      "Incorrect: B) at home\n",
      "\n",
      "690\n",
      "Correct: D) vegetable\n",
      "\n",
      "695\n",
      "\n",
      "700\n",
      "\n",
      "705\n",
      "\n",
      "710\n",
      "Correct: B) recording studio\n",
      "\n",
      "715\n",
      "Correct: D) rare\n",
      "\n",
      "720\n",
      "\n",
      "725\n",
      "Correct: D) canada\n",
      "728\n",
      "Incorrect: B) Washington state\n",
      "\n",
      "730\n",
      "Correct: B) pass time\n",
      "\n",
      "735\n",
      "Correct: B) fun\n",
      "\n",
      "740\n",
      "Correct: B) patience\n",
      "\n",
      "745\n",
      "Correct: C) injury\n",
      "\n",
      "750\n",
      "Correct: D) attractive appearance\n",
      "\n",
      "755\n",
      "Correct: C) go on vacation\n",
      "\n",
      "760\n",
      "Correct: C) smooth skin\n",
      "\n",
      "765\n",
      "Correct: C) dress himself\n",
      "\n",
      "770\n",
      "Correct: B) woods\n",
      "\n",
      "775\n",
      "\n",
      "780\n",
      "Correct: C) dairy farm\n",
      "\n",
      "785\n",
      "Correct: C) play tag\n",
      "\n",
      "790\n",
      "\n",
      "795\n",
      "Correct: D) pleasure\n",
      "\n",
      "800\n",
      "Correct: B) piggy bank\n",
      "\n",
      "805\n",
      "Correct: C) battlefield\n",
      "\n",
      "810\n",
      "\n",
      "815\n",
      "Correct: B) house\n",
      "\n",
      "820\n",
      "Correct: A) liquidated\n",
      "\n",
      "825\n",
      "Correct: E) front door\n",
      "828\n",
      "Incorrect: D) window\n",
      "\n",
      "830\n",
      "Correct: A) bus stop\n",
      "\n",
      "835\n",
      "\n",
      "840\n",
      "Correct: A) washing machine\n",
      "\n",
      "845\n",
      "Correct: E) farmer's market\n",
      "\n",
      "850\n",
      "\n",
      "855\n",
      "\n",
      "860\n",
      "Correct: C) throne room\n",
      "\n",
      "865\n",
      "Correct: A) street\n",
      "868\n",
      "Incorrect: B) soccer field\n",
      "\n",
      "870\n",
      "Correct: E) larger house\n",
      "\n",
      "875\n",
      "Correct: A) botanical garden\n",
      "\n",
      "880\n",
      "\n",
      "885\n",
      "Correct: A) mail orders\n",
      "\n",
      "890\n",
      "Correct: C) table setting\n",
      "\n",
      "895\n",
      "Correct: E) sheet music\n",
      "\n",
      "900\n",
      "Correct: A) tennis elbow\n",
      "\n",
      "905\n",
      "Correct: D) amusement park\n",
      "\n",
      "910\n",
      "Correct: A) infect\n",
      "\n",
      "915\n",
      "Correct: C) bakery\n",
      "\n",
      "920\n",
      "Correct: A) battle field\n",
      "\n",
      "925\n",
      "Correct: B) intelligent\n",
      "\n",
      "930\n",
      "Correct: B) expend energy\n",
      "\n",
      "935\n",
      "\n",
      "940\n",
      "Correct: C) plain\n",
      "\n",
      "945\n",
      "Correct: B) container\n",
      "\n",
      "950\n",
      "Correct: D) chess board\n",
      "953\n",
      "Incorrect: A) fairy tale\n",
      "\n",
      "955\n",
      "Correct: A) swim\n",
      "\n",
      "960\n",
      "Correct: C) criticism\n",
      "\n",
      "965\n",
      "Correct: A) kitchen\n",
      "\n",
      "970\n",
      "\n",
      "975\n",
      "Correct: D) answering questions\n",
      "\n",
      "980\n",
      "Correct: C) great outdoors\n",
      "\n",
      "985\n",
      "Correct: A) front door\n",
      "\n",
      "990\n",
      "Correct: C) baseball stadium\n",
      "\n",
      "995\n",
      "Correct: A) sun himself\n",
      "\n",
      "1000\n",
      "Correct: A) big house\n",
      "\n",
      "1005\n",
      "\n",
      "1010\n",
      "Correct: B) play sports\n",
      "\n",
      "1015\n",
      "Correct: D) drink coffee\n",
      "\n",
      "1020\n",
      "Correct: C) being mean\n",
      "\n",
      "1025\n",
      "Correct: E) food poisoning\n",
      "\n",
      "1030\n",
      "Correct: B) shocked\n",
      "\n",
      "1035\n",
      "Correct: E) arkansas\n",
      "1037\n",
      "Incorrect: C) hen house\n",
      "\n",
      "1040\n",
      "\n",
      "1045\n",
      "Correct: E) breathe deeply\n",
      "\n",
      "1050\n",
      "\n",
      "1055\n",
      "Correct: A) health center\n",
      "\n",
      "1060\n",
      "Correct: E) apartment\n",
      "1063\n",
      "Incorrect: D) pots\n",
      "\n",
      "1065\n",
      "\n",
      "1070\n",
      "Correct: D) space shuttle\n",
      "1072\n",
      "Incorrect: A) air\n",
      "\n",
      "1075\n",
      "Correct: C) listen to music\n",
      "\n",
      "1080\n",
      "Correct: C) prepare to go\n",
      "\n",
      "1085\n",
      "Correct: A) satisfaction\n",
      "\n",
      "1090\n",
      "\n",
      "1095\n",
      "Correct: B) unbreakable\n",
      "1097\n",
      "Incorrect: C) indestructible\n",
      "\n",
      "1100\n",
      "Correct: C) music store\n",
      "\n",
      "1105\n",
      "Correct: A) cold\n",
      "\n",
      "1110\n",
      "Correct: C) space center\n",
      "\n",
      "1115\n",
      "Correct: C) building\n",
      "\n",
      "1120\n",
      "Correct: D) blisters\n",
      "\n",
      "1125\n",
      "\n",
      "1130\n",
      "Correct: E) eat corn\n",
      "\n",
      "1135\n",
      "Correct: D) parking garage\n",
      "\n",
      "1140\n",
      "\n",
      "1145\n",
      "Correct: C) blacksmith's shop\n",
      "1148\n",
      "Incorrect: D) building\n",
      "\n",
      "1150\n",
      "Correct: C) dangerous\n",
      "\n",
      "1155\n",
      "Correct: A) train station\n",
      "\n",
      "1160\n",
      "Correct: C) injury\n",
      "\n",
      "1165\n",
      "Correct: D) further education\n",
      "\n",
      "1170\n",
      "Correct: A) look at\n",
      "1171\n",
      "Incorrect: D) think about\n",
      "\n",
      "1175\n",
      "\n",
      "1180\n",
      "Correct: E) motorcycle\n",
      "\n",
      "1185\n",
      "Correct: C) table\n",
      "\n",
      "1190\n",
      "\n",
      "1195\n",
      "Correct: E) engage\n",
      "\n",
      "1200\n",
      "Correct: B) motel room\n",
      "\n",
      "1205\n",
      "Correct: D) compete with each other\n",
      "\n",
      "1210\n",
      "Correct: A) modern house\n",
      "\n",
      "1215\n",
      "Correct: A) water cooler\n",
      "\n",
      "1220\n",
      "Correct: E) backpack\n",
      "\n",
      "1225\n",
      "Correct: C) at home\n",
      "\n",
      "1230\n",
      "Correct: A) open meadow\n",
      "1232\n",
      "Incorrect: C) beach\n",
      "\n",
      "1235\n",
      "Correct: C) understand themselves\n",
      "\n",
      "1240\n",
      "\n",
      "1245\n",
      "Correct: E) tall\n",
      "1246\n",
      "Incorrect: D) huge\n",
      "\n",
      "1250\n",
      "Correct: B) get laid\n",
      "\n",
      "1255\n",
      "Correct: B) center\n",
      "\n",
      "1260\n",
      "\n",
      "1265\n",
      "Correct: A) supermarket\n",
      "\n",
      "1270\n",
      "\n",
      "1275\n",
      "Correct: E) get food\n",
      "\n",
      "1280\n",
      "Correct: E) jump\n",
      "\n",
      "1285\n",
      "\n",
      "1290\n",
      "Correct: E) surf net\n",
      "\n",
      "1295\n",
      "\n",
      "1300\n",
      "Correct: A) blisters\n",
      "\n",
      "1305\n",
      "\n",
      "1310\n",
      "Correct: B) big house\n",
      "1313\n",
      "Incorrect: D) palace\n",
      "\n",
      "1315\n",
      "Correct: C) disparagement\n",
      "\n",
      "1320\n",
      "Correct: E) procrastination\n",
      "\n",
      "1325\n",
      "Correct: D) time consuming\n",
      "\n",
      "1330\n",
      "Correct: E) see favorite show\n",
      "\n",
      "1335\n",
      "Correct: B) cash in\n",
      "\n",
      "1340\n",
      "Correct: C) make love\n",
      "1341\n",
      "Incorrect: A) build family together\n",
      "\n",
      "1345\n",
      "\n",
      "1350\n",
      "Correct: E) let blood\n",
      "\n",
      "1355\n",
      "Correct: B) welcome change\n",
      "\n",
      "1360\n",
      "\n",
      "1365\n",
      "Correct: E) score points\n",
      "\n",
      "1370\n",
      "Correct: D) dedication\n",
      "\n",
      "1375\n",
      "Correct: B) hear sounds\n",
      "\n",
      "1380\n",
      "Correct: A) learning\n",
      "\n",
      "1385\n",
      "Correct: E) warehouse\n",
      "\n",
      "1390\n",
      "Correct: A) Georgia\n",
      "\n",
      "1395\n",
      "Correct: C) floor\n",
      "\n",
      "1400\n",
      "Correct: B) map\n",
      "\n",
      "1405\n",
      "Correct: B) heart attacks\n",
      "\n",
      "1410\n",
      "Correct: A) in cinema\n",
      "\n",
      "1415\n",
      "Correct: A) train station\n",
      "\n",
      "1420\n",
      "Correct: D) seed crops\n",
      "1423\n",
      "Incorrect: B) seed plants\n",
      "\n",
      "1425\n",
      "\n",
      "1430\n",
      "Correct: B) Louisiana\n",
      "\n",
      "1435\n",
      "Correct: A) cash register\n",
      "1438\n",
      "Incorrect: B) desk drawer\n",
      "\n",
      "1440\n",
      "Correct: A) arena\n",
      "\n",
      "1445\n",
      "Correct: C) city\n",
      "1446\n",
      "Incorrect: B) neighborhood\n",
      "\n",
      "1450\n",
      "Correct: A) contagious\n",
      "\n",
      "1455\n",
      "Correct: A) birthday party\n",
      "\n",
      "1460\n",
      "Correct: C) playroom\n",
      "1462\n",
      "Incorrect: A) pool table\n",
      "\n",
      "1465\n",
      "Correct: D) painting\n",
      "\n",
      "1470\n",
      "Correct: C) surface of earth\n",
      "1471\n",
      "Incorrect: E) house\n",
      "\n",
      "1475\n",
      "\n",
      "1480\n",
      "Correct: D) happiness\n",
      "1483\n",
      "Incorrect: B) intimacy\n",
      "\n",
      "1485\n",
      "\n",
      "1490\n",
      "Correct: E) artist's studio\n",
      "\n",
      "1495\n",
      "Correct: E) produce\n",
      "1498\n",
      "Incorrect: B) destroy\n"
     ]
    }
   ],
   "source": [
    "hard_question_indices = []\n",
    "for idx in range(0, len(df), 5):\n",
    "    print()\n",
    "    print(idx)\n",
    "    if df.iloc[idx]['Correct'] == True:\n",
    "        print('Correct:', df.iloc[idx]['Answer'])\n",
    "        for i in range(idx+1, idx+4):\n",
    "            if df.iloc[i]['Correct'] == False and df.iloc[i]['Valid'] == True:\n",
    "                print(i)\n",
    "                print('Incorrect:', df.iloc[i]['Answer'])\n",
    "                hard_question_indices.append(idx)\n",
    "                break\n",
    "            "
   ]
  },
  {
   "cell_type": "code",
   "execution_count": 72,
   "metadata": {},
   "outputs": [
    {
     "data": {
      "text/plain": [
       "39"
      ]
     },
     "execution_count": 72,
     "metadata": {},
     "output_type": "execute_result"
    }
   ],
   "source": [
    "len(hard_question_indices)"
   ]
  },
  {
   "cell_type": "code",
   "execution_count": 73,
   "metadata": {},
   "outputs": [
    {
     "data": {
      "text/plain": [
       "[40,\n",
       " 105,\n",
       " 115,\n",
       " 120,\n",
       " 130,\n",
       " 180,\n",
       " 210,\n",
       " 295,\n",
       " 300,\n",
       " 310,\n",
       " 325,\n",
       " 425,\n",
       " 455,\n",
       " 510,\n",
       " 530,\n",
       " 535,\n",
       " 540,\n",
       " 685,\n",
       " 725,\n",
       " 825,\n",
       " 865,\n",
       " 950,\n",
       " 1035,\n",
       " 1060,\n",
       " 1070,\n",
       " 1095,\n",
       " 1145,\n",
       " 1170,\n",
       " 1230,\n",
       " 1245,\n",
       " 1310,\n",
       " 1340,\n",
       " 1420,\n",
       " 1435,\n",
       " 1445,\n",
       " 1460,\n",
       " 1470,\n",
       " 1480,\n",
       " 1495]"
      ]
     },
     "execution_count": 73,
     "metadata": {},
     "output_type": "execute_result"
    }
   ],
   "source": [
    "hard_question_indices"
   ]
  },
  {
   "cell_type": "code",
   "execution_count": 78,
   "metadata": {},
   "outputs": [
    {
     "data": {
      "text/html": [
       "<div>\n",
       "<style scoped>\n",
       "    .dataframe tbody tr th:only-of-type {\n",
       "        vertical-align: middle;\n",
       "    }\n",
       "\n",
       "    .dataframe tbody tr th {\n",
       "        vertical-align: top;\n",
       "    }\n",
       "\n",
       "    .dataframe thead th {\n",
       "        text-align: right;\n",
       "    }\n",
       "</style>\n",
       "<table border=\"1\" class=\"dataframe\">\n",
       "  <thead>\n",
       "    <tr style=\"text-align: right;\">\n",
       "      <th></th>\n",
       "      <th>QuestionId</th>\n",
       "      <th>OriginalQuestion</th>\n",
       "      <th>TypoQuestion</th>\n",
       "      <th>TargetWord</th>\n",
       "      <th>TypoWord</th>\n",
       "      <th>EditDistance</th>\n",
       "      <th>TargetStartIndex</th>\n",
       "      <th>TargetEndIndex</th>\n",
       "      <th>p</th>\n",
       "      <th>LogProbWord</th>\n",
       "      <th>...</th>\n",
       "      <th>CorrectedQuestion</th>\n",
       "      <th>Correct</th>\n",
       "      <th>Valid</th>\n",
       "      <th>CorrectedCorrect</th>\n",
       "      <th>CorrectInt</th>\n",
       "      <th>CorrectedCorrectInt</th>\n",
       "      <th>PositiveChangeCorrection</th>\n",
       "      <th>NegativeChangeCorrection</th>\n",
       "      <th>BaseCorrect</th>\n",
       "      <th>Filtered</th>\n",
       "    </tr>\n",
       "  </thead>\n",
       "  <tbody>\n",
       "    <tr>\n",
       "      <th>0</th>\n",
       "      <td>1</td>\n",
       "      <td>The sanctions against the school were a punish...</td>\n",
       "      <td>The sanctions against the school were a punish...</td>\n",
       "      <td>punishing</td>\n",
       "      <td>punishing</td>\n",
       "      <td>0</td>\n",
       "      <td>40</td>\n",
       "      <td>49</td>\n",
       "      <td>0.0</td>\n",
       "      <td>-5.41</td>\n",
       "      <td>...</td>\n",
       "      <td>The sanctions against the school were a punish...</td>\n",
       "      <td>False</td>\n",
       "      <td>True</td>\n",
       "      <td>False</td>\n",
       "      <td>0</td>\n",
       "      <td>0</td>\n",
       "      <td>0</td>\n",
       "      <td>0</td>\n",
       "      <td>0</td>\n",
       "      <td>NaN</td>\n",
       "    </tr>\n",
       "    <tr>\n",
       "      <th>1</th>\n",
       "      <td>1</td>\n",
       "      <td>The sanctions against the school were a punish...</td>\n",
       "      <td>The sanctions against the school were a zunish...</td>\n",
       "      <td>punishing</td>\n",
       "      <td>zunishing</td>\n",
       "      <td>1</td>\n",
       "      <td>40</td>\n",
       "      <td>49</td>\n",
       "      <td>0.1</td>\n",
       "      <td>-5.41</td>\n",
       "      <td>...</td>\n",
       "      <td>The sanctions against the school were a punish...</td>\n",
       "      <td>False</td>\n",
       "      <td>True</td>\n",
       "      <td>False</td>\n",
       "      <td>0</td>\n",
       "      <td>0</td>\n",
       "      <td>0</td>\n",
       "      <td>0</td>\n",
       "      <td>0</td>\n",
       "      <td>NaN</td>\n",
       "    </tr>\n",
       "    <tr>\n",
       "      <th>2</th>\n",
       "      <td>1</td>\n",
       "      <td>The sanctions against the school were a punish...</td>\n",
       "      <td>The sanctions against the school were a piushi...</td>\n",
       "      <td>punishing</td>\n",
       "      <td>piushign</td>\n",
       "      <td>5</td>\n",
       "      <td>40</td>\n",
       "      <td>48</td>\n",
       "      <td>0.2</td>\n",
       "      <td>-5.41</td>\n",
       "      <td>...</td>\n",
       "      <td>The sanctions against the school were a punish...</td>\n",
       "      <td>False</td>\n",
       "      <td>True</td>\n",
       "      <td>False</td>\n",
       "      <td>0</td>\n",
       "      <td>0</td>\n",
       "      <td>0</td>\n",
       "      <td>0</td>\n",
       "      <td>0</td>\n",
       "      <td>NaN</td>\n",
       "    </tr>\n",
       "    <tr>\n",
       "      <th>3</th>\n",
       "      <td>1</td>\n",
       "      <td>The sanctions against the school were a punish...</td>\n",
       "      <td>The sanctions against the school were a punssi...</td>\n",
       "      <td>punishing</td>\n",
       "      <td>punssing</td>\n",
       "      <td>2</td>\n",
       "      <td>40</td>\n",
       "      <td>48</td>\n",
       "      <td>0.3</td>\n",
       "      <td>-5.41</td>\n",
       "      <td>...</td>\n",
       "      <td>The sanctions against the school were a punish...</td>\n",
       "      <td>False</td>\n",
       "      <td>True</td>\n",
       "      <td>False</td>\n",
       "      <td>0</td>\n",
       "      <td>0</td>\n",
       "      <td>0</td>\n",
       "      <td>0</td>\n",
       "      <td>0</td>\n",
       "      <td>NaN</td>\n",
       "    </tr>\n",
       "    <tr>\n",
       "      <th>4</th>\n",
       "      <td>1</td>\n",
       "      <td>The sanctions against the school were a punish...</td>\n",
       "      <td>The sanctions against the school were a puoish...</td>\n",
       "      <td>punishing</td>\n",
       "      <td>puoishing</td>\n",
       "      <td>1</td>\n",
       "      <td>40</td>\n",
       "      <td>49</td>\n",
       "      <td>0.4</td>\n",
       "      <td>-5.41</td>\n",
       "      <td>...</td>\n",
       "      <td>The sanctions against the school were a punish...</td>\n",
       "      <td>False</td>\n",
       "      <td>True</td>\n",
       "      <td>False</td>\n",
       "      <td>0</td>\n",
       "      <td>0</td>\n",
       "      <td>0</td>\n",
       "      <td>0</td>\n",
       "      <td>0</td>\n",
       "      <td>NaN</td>\n",
       "    </tr>\n",
       "  </tbody>\n",
       "</table>\n",
       "<p>5 rows × 27 columns</p>\n",
       "</div>"
      ],
      "text/plain": [
       "   QuestionId                                   OriginalQuestion  \\\n",
       "0           1  The sanctions against the school were a punish...   \n",
       "1           1  The sanctions against the school were a punish...   \n",
       "2           1  The sanctions against the school were a punish...   \n",
       "3           1  The sanctions against the school were a punish...   \n",
       "4           1  The sanctions against the school were a punish...   \n",
       "\n",
       "                                        TypoQuestion TargetWord   TypoWord  \\\n",
       "0  The sanctions against the school were a punish...  punishing  punishing   \n",
       "1  The sanctions against the school were a zunish...  punishing  zunishing   \n",
       "2  The sanctions against the school were a piushi...  punishing   piushign   \n",
       "3  The sanctions against the school were a punssi...  punishing   punssing   \n",
       "4  The sanctions against the school were a puoish...  punishing  puoishing   \n",
       "\n",
       "   EditDistance  TargetStartIndex  TargetEndIndex    p  LogProbWord  ...  \\\n",
       "0             0                40              49  0.0        -5.41  ...   \n",
       "1             1                40              49  0.1        -5.41  ...   \n",
       "2             5                40              48  0.2        -5.41  ...   \n",
       "3             2                40              48  0.3        -5.41  ...   \n",
       "4             1                40              49  0.4        -5.41  ...   \n",
       "\n",
       "                                   CorrectedQuestion  Correct  Valid  \\\n",
       "0  The sanctions against the school were a punish...    False   True   \n",
       "1  The sanctions against the school were a punish...    False   True   \n",
       "2  The sanctions against the school were a punish...    False   True   \n",
       "3  The sanctions against the school were a punish...    False   True   \n",
       "4  The sanctions against the school were a punish...    False   True   \n",
       "\n",
       "  CorrectedCorrect CorrectInt CorrectedCorrectInt PositiveChangeCorrection  \\\n",
       "0            False          0                   0                        0   \n",
       "1            False          0                   0                        0   \n",
       "2            False          0                   0                        0   \n",
       "3            False          0                   0                        0   \n",
       "4            False          0                   0                        0   \n",
       "\n",
       "  NegativeChangeCorrection  BaseCorrect  Filtered  \n",
       "0                        0            0       NaN  \n",
       "1                        0            0       NaN  \n",
       "2                        0            0       NaN  \n",
       "3                        0            0       NaN  \n",
       "4                        0            0       NaN  \n",
       "\n",
       "[5 rows x 27 columns]"
      ]
     },
     "execution_count": 78,
     "metadata": {},
     "output_type": "execute_result"
    }
   ],
   "source": [
    "results = pd.read_csv('results_experiment_2_2.csv', index_col=0)\n",
    "results.head()"
   ]
  },
  {
   "cell_type": "code",
   "execution_count": 79,
   "metadata": {},
   "outputs": [
    {
     "data": {
      "text/html": [
       "<div>\n",
       "<style scoped>\n",
       "    .dataframe tbody tr th:only-of-type {\n",
       "        vertical-align: middle;\n",
       "    }\n",
       "\n",
       "    .dataframe tbody tr th {\n",
       "        vertical-align: top;\n",
       "    }\n",
       "\n",
       "    .dataframe thead th {\n",
       "        text-align: right;\n",
       "    }\n",
       "</style>\n",
       "<table border=\"1\" class=\"dataframe\">\n",
       "  <thead>\n",
       "    <tr style=\"text-align: right;\">\n",
       "      <th></th>\n",
       "      <th>QuestionId</th>\n",
       "      <th>OriginalQuestion</th>\n",
       "      <th>TypoQuestion</th>\n",
       "      <th>TargetWord</th>\n",
       "      <th>TypoWord</th>\n",
       "      <th>EditDistance</th>\n",
       "      <th>TargetStartIndex</th>\n",
       "      <th>TargetEndIndex</th>\n",
       "      <th>p</th>\n",
       "      <th>LogProbWord</th>\n",
       "      <th>...</th>\n",
       "      <th>CorrectedQuestion</th>\n",
       "      <th>Correct</th>\n",
       "      <th>Valid</th>\n",
       "      <th>CorrectedCorrect</th>\n",
       "      <th>CorrectInt</th>\n",
       "      <th>CorrectedCorrectInt</th>\n",
       "      <th>PositiveChangeCorrection</th>\n",
       "      <th>NegativeChangeCorrection</th>\n",
       "      <th>BaseCorrect</th>\n",
       "      <th>Filtered</th>\n",
       "    </tr>\n",
       "  </thead>\n",
       "  <tbody>\n",
       "    <tr>\n",
       "      <th>7</th>\n",
       "      <td>2</td>\n",
       "      <td>Sammy wanted to go to where the people were.  ...</td>\n",
       "      <td>Sammy wanted to go to where the epople were.  ...</td>\n",
       "      <td>people</td>\n",
       "      <td>epople</td>\n",
       "      <td>2</td>\n",
       "      <td>32</td>\n",
       "      <td>38</td>\n",
       "      <td>0.1</td>\n",
       "      <td>-1.92</td>\n",
       "      <td>...</td>\n",
       "      <td>Sammy wanted to go to where the people were. W...</td>\n",
       "      <td>True</td>\n",
       "      <td>True</td>\n",
       "      <td>True</td>\n",
       "      <td>1</td>\n",
       "      <td>1</td>\n",
       "      <td>0</td>\n",
       "      <td>0</td>\n",
       "      <td>1</td>\n",
       "      <td>1.0</td>\n",
       "    </tr>\n",
       "    <tr>\n",
       "      <th>8</th>\n",
       "      <td>2</td>\n",
       "      <td>Sammy wanted to go to where the people were.  ...</td>\n",
       "      <td>Sammy wanted to go to where the dpm were.  Whe...</td>\n",
       "      <td>people</td>\n",
       "      <td>dpm</td>\n",
       "      <td>5</td>\n",
       "      <td>32</td>\n",
       "      <td>35</td>\n",
       "      <td>0.2</td>\n",
       "      <td>-1.92</td>\n",
       "      <td>...</td>\n",
       "      <td>Sammy wanted to go to where the damp were. Whe...</td>\n",
       "      <td>True</td>\n",
       "      <td>True</td>\n",
       "      <td>True</td>\n",
       "      <td>1</td>\n",
       "      <td>1</td>\n",
       "      <td>0</td>\n",
       "      <td>0</td>\n",
       "      <td>1</td>\n",
       "      <td>1.0</td>\n",
       "    </tr>\n",
       "    <tr>\n",
       "      <th>9</th>\n",
       "      <td>2</td>\n",
       "      <td>Sammy wanted to go to where the people were.  ...</td>\n",
       "      <td>Sammy wanted to go to where the peolpe were.  ...</td>\n",
       "      <td>people</td>\n",
       "      <td>peolpe</td>\n",
       "      <td>2</td>\n",
       "      <td>32</td>\n",
       "      <td>38</td>\n",
       "      <td>0.3</td>\n",
       "      <td>-1.92</td>\n",
       "      <td>...</td>\n",
       "      <td>Sammy wanted to go to where the people were. W...</td>\n",
       "      <td>True</td>\n",
       "      <td>True</td>\n",
       "      <td>True</td>\n",
       "      <td>1</td>\n",
       "      <td>1</td>\n",
       "      <td>0</td>\n",
       "      <td>0</td>\n",
       "      <td>1</td>\n",
       "      <td>1.0</td>\n",
       "    </tr>\n",
       "    <tr>\n",
       "      <th>10</th>\n",
       "      <td>2</td>\n",
       "      <td>Sammy wanted to go to where the people were.  ...</td>\n",
       "      <td>Sammy wanted to go to where the ppje were.  Wh...</td>\n",
       "      <td>people</td>\n",
       "      <td>ppje</td>\n",
       "      <td>3</td>\n",
       "      <td>32</td>\n",
       "      <td>36</td>\n",
       "      <td>0.4</td>\n",
       "      <td>-1.92</td>\n",
       "      <td>...</td>\n",
       "      <td>Sammy wanted to go to where the people were. W...</td>\n",
       "      <td>True</td>\n",
       "      <td>True</td>\n",
       "      <td>True</td>\n",
       "      <td>1</td>\n",
       "      <td>1</td>\n",
       "      <td>0</td>\n",
       "      <td>0</td>\n",
       "      <td>1</td>\n",
       "      <td>1.0</td>\n",
       "    </tr>\n",
       "    <tr>\n",
       "      <th>11</th>\n",
       "      <td>2</td>\n",
       "      <td>Sammy wanted to go to where the people were.  ...</td>\n",
       "      <td>Sammy wanted to go to where the pevel were.  W...</td>\n",
       "      <td>people</td>\n",
       "      <td>pevel</td>\n",
       "      <td>3</td>\n",
       "      <td>32</td>\n",
       "      <td>37</td>\n",
       "      <td>0.5</td>\n",
       "      <td>-1.92</td>\n",
       "      <td>...</td>\n",
       "      <td>Sammy wanted to go to where the people were. W...</td>\n",
       "      <td>True</td>\n",
       "      <td>True</td>\n",
       "      <td>True</td>\n",
       "      <td>1</td>\n",
       "      <td>1</td>\n",
       "      <td>0</td>\n",
       "      <td>0</td>\n",
       "      <td>1</td>\n",
       "      <td>1.0</td>\n",
       "    </tr>\n",
       "  </tbody>\n",
       "</table>\n",
       "<p>5 rows × 27 columns</p>\n",
       "</div>"
      ],
      "text/plain": [
       "    QuestionId                                   OriginalQuestion  \\\n",
       "7            2  Sammy wanted to go to where the people were.  ...   \n",
       "8            2  Sammy wanted to go to where the people were.  ...   \n",
       "9            2  Sammy wanted to go to where the people were.  ...   \n",
       "10           2  Sammy wanted to go to where the people were.  ...   \n",
       "11           2  Sammy wanted to go to where the people were.  ...   \n",
       "\n",
       "                                         TypoQuestion TargetWord TypoWord  \\\n",
       "7   Sammy wanted to go to where the epople were.  ...     people   epople   \n",
       "8   Sammy wanted to go to where the dpm were.  Whe...     people      dpm   \n",
       "9   Sammy wanted to go to where the peolpe were.  ...     people   peolpe   \n",
       "10  Sammy wanted to go to where the ppje were.  Wh...     people     ppje   \n",
       "11  Sammy wanted to go to where the pevel were.  W...     people    pevel   \n",
       "\n",
       "    EditDistance  TargetStartIndex  TargetEndIndex    p  LogProbWord  ...  \\\n",
       "7              2                32              38  0.1        -1.92  ...   \n",
       "8              5                32              35  0.2        -1.92  ...   \n",
       "9              2                32              38  0.3        -1.92  ...   \n",
       "10             3                32              36  0.4        -1.92  ...   \n",
       "11             3                32              37  0.5        -1.92  ...   \n",
       "\n",
       "                                    CorrectedQuestion  Correct  Valid  \\\n",
       "7   Sammy wanted to go to where the people were. W...     True   True   \n",
       "8   Sammy wanted to go to where the damp were. Whe...     True   True   \n",
       "9   Sammy wanted to go to where the people were. W...     True   True   \n",
       "10  Sammy wanted to go to where the people were. W...     True   True   \n",
       "11  Sammy wanted to go to where the people were. W...     True   True   \n",
       "\n",
       "   CorrectedCorrect CorrectInt CorrectedCorrectInt PositiveChangeCorrection  \\\n",
       "7              True          1                   1                        0   \n",
       "8              True          1                   1                        0   \n",
       "9              True          1                   1                        0   \n",
       "10             True          1                   1                        0   \n",
       "11             True          1                   1                        0   \n",
       "\n",
       "   NegativeChangeCorrection  BaseCorrect  Filtered  \n",
       "7                         0            1       1.0  \n",
       "8                         0            1       1.0  \n",
       "9                         0            1       1.0  \n",
       "10                        0            1       1.0  \n",
       "11                        0            1       1.0  \n",
       "\n",
       "[5 rows x 27 columns]"
      ]
     },
     "execution_count": 79,
     "metadata": {},
     "output_type": "execute_result"
    }
   ],
   "source": [
    "results = results[results['Filtered'] == 1]\n",
    "results.head()"
   ]
  },
  {
   "cell_type": "code",
   "execution_count": 80,
   "metadata": {},
   "outputs": [
    {
     "data": {
      "text/html": [
       "<div>\n",
       "<style scoped>\n",
       "    .dataframe tbody tr th:only-of-type {\n",
       "        vertical-align: middle;\n",
       "    }\n",
       "\n",
       "    .dataframe tbody tr th {\n",
       "        vertical-align: top;\n",
       "    }\n",
       "\n",
       "    .dataframe thead th {\n",
       "        text-align: right;\n",
       "    }\n",
       "</style>\n",
       "<table border=\"1\" class=\"dataframe\">\n",
       "  <thead>\n",
       "    <tr style=\"text-align: right;\">\n",
       "      <th></th>\n",
       "      <th>QuestionId</th>\n",
       "      <th>OriginalQuestion</th>\n",
       "      <th>TypoQuestion</th>\n",
       "      <th>TargetWord</th>\n",
       "      <th>TypoWord</th>\n",
       "      <th>EditDistance</th>\n",
       "      <th>TargetStartIndex</th>\n",
       "      <th>TargetEndIndex</th>\n",
       "      <th>p</th>\n",
       "      <th>LogProbWord</th>\n",
       "      <th>...</th>\n",
       "      <th>CorrectedQuestion</th>\n",
       "      <th>Correct</th>\n",
       "      <th>Valid</th>\n",
       "      <th>CorrectedCorrect</th>\n",
       "      <th>CorrectInt</th>\n",
       "      <th>CorrectedCorrectInt</th>\n",
       "      <th>PositiveChangeCorrection</th>\n",
       "      <th>NegativeChangeCorrection</th>\n",
       "      <th>BaseCorrect</th>\n",
       "      <th>Filtered</th>\n",
       "    </tr>\n",
       "  </thead>\n",
       "  <tbody>\n",
       "    <tr>\n",
       "      <th>7</th>\n",
       "      <td>2</td>\n",
       "      <td>Sammy wanted to go to where the people were.  ...</td>\n",
       "      <td>Sammy wanted to go to where the epople were.  ...</td>\n",
       "      <td>people</td>\n",
       "      <td>epople</td>\n",
       "      <td>2</td>\n",
       "      <td>32</td>\n",
       "      <td>38</td>\n",
       "      <td>0.1</td>\n",
       "      <td>-1.92</td>\n",
       "      <td>...</td>\n",
       "      <td>Sammy wanted to go to where the people were. W...</td>\n",
       "      <td>True</td>\n",
       "      <td>True</td>\n",
       "      <td>True</td>\n",
       "      <td>1</td>\n",
       "      <td>1</td>\n",
       "      <td>0</td>\n",
       "      <td>0</td>\n",
       "      <td>1</td>\n",
       "      <td>1.0</td>\n",
       "    </tr>\n",
       "    <tr>\n",
       "      <th>8</th>\n",
       "      <td>2</td>\n",
       "      <td>Sammy wanted to go to where the people were.  ...</td>\n",
       "      <td>Sammy wanted to go to where the dpm were.  Whe...</td>\n",
       "      <td>people</td>\n",
       "      <td>dpm</td>\n",
       "      <td>5</td>\n",
       "      <td>32</td>\n",
       "      <td>35</td>\n",
       "      <td>0.2</td>\n",
       "      <td>-1.92</td>\n",
       "      <td>...</td>\n",
       "      <td>Sammy wanted to go to where the damp were. Whe...</td>\n",
       "      <td>True</td>\n",
       "      <td>True</td>\n",
       "      <td>True</td>\n",
       "      <td>1</td>\n",
       "      <td>1</td>\n",
       "      <td>0</td>\n",
       "      <td>0</td>\n",
       "      <td>1</td>\n",
       "      <td>1.0</td>\n",
       "    </tr>\n",
       "    <tr>\n",
       "      <th>9</th>\n",
       "      <td>2</td>\n",
       "      <td>Sammy wanted to go to where the people were.  ...</td>\n",
       "      <td>Sammy wanted to go to where the peolpe were.  ...</td>\n",
       "      <td>people</td>\n",
       "      <td>peolpe</td>\n",
       "      <td>2</td>\n",
       "      <td>32</td>\n",
       "      <td>38</td>\n",
       "      <td>0.3</td>\n",
       "      <td>-1.92</td>\n",
       "      <td>...</td>\n",
       "      <td>Sammy wanted to go to where the people were. W...</td>\n",
       "      <td>True</td>\n",
       "      <td>True</td>\n",
       "      <td>True</td>\n",
       "      <td>1</td>\n",
       "      <td>1</td>\n",
       "      <td>0</td>\n",
       "      <td>0</td>\n",
       "      <td>1</td>\n",
       "      <td>1.0</td>\n",
       "    </tr>\n",
       "    <tr>\n",
       "      <th>10</th>\n",
       "      <td>2</td>\n",
       "      <td>Sammy wanted to go to where the people were.  ...</td>\n",
       "      <td>Sammy wanted to go to where the ppje were.  Wh...</td>\n",
       "      <td>people</td>\n",
       "      <td>ppje</td>\n",
       "      <td>3</td>\n",
       "      <td>32</td>\n",
       "      <td>36</td>\n",
       "      <td>0.4</td>\n",
       "      <td>-1.92</td>\n",
       "      <td>...</td>\n",
       "      <td>Sammy wanted to go to where the people were. W...</td>\n",
       "      <td>True</td>\n",
       "      <td>True</td>\n",
       "      <td>True</td>\n",
       "      <td>1</td>\n",
       "      <td>1</td>\n",
       "      <td>0</td>\n",
       "      <td>0</td>\n",
       "      <td>1</td>\n",
       "      <td>1.0</td>\n",
       "    </tr>\n",
       "    <tr>\n",
       "      <th>11</th>\n",
       "      <td>2</td>\n",
       "      <td>Sammy wanted to go to where the people were.  ...</td>\n",
       "      <td>Sammy wanted to go to where the pevel were.  W...</td>\n",
       "      <td>people</td>\n",
       "      <td>pevel</td>\n",
       "      <td>3</td>\n",
       "      <td>32</td>\n",
       "      <td>37</td>\n",
       "      <td>0.5</td>\n",
       "      <td>-1.92</td>\n",
       "      <td>...</td>\n",
       "      <td>Sammy wanted to go to where the people were. W...</td>\n",
       "      <td>True</td>\n",
       "      <td>True</td>\n",
       "      <td>True</td>\n",
       "      <td>1</td>\n",
       "      <td>1</td>\n",
       "      <td>0</td>\n",
       "      <td>0</td>\n",
       "      <td>1</td>\n",
       "      <td>1.0</td>\n",
       "    </tr>\n",
       "    <tr>\n",
       "      <th>...</th>\n",
       "      <td>...</td>\n",
       "      <td>...</td>\n",
       "      <td>...</td>\n",
       "      <td>...</td>\n",
       "      <td>...</td>\n",
       "      <td>...</td>\n",
       "      <td>...</td>\n",
       "      <td>...</td>\n",
       "      <td>...</td>\n",
       "      <td>...</td>\n",
       "      <td>...</td>\n",
       "      <td>...</td>\n",
       "      <td>...</td>\n",
       "      <td>...</td>\n",
       "      <td>...</td>\n",
       "      <td>...</td>\n",
       "      <td>...</td>\n",
       "      <td>...</td>\n",
       "      <td>...</td>\n",
       "      <td>...</td>\n",
       "      <td>...</td>\n",
       "    </tr>\n",
       "    <tr>\n",
       "      <th>1480</th>\n",
       "      <td>247</td>\n",
       "      <td>Where could you find a fox hunting when not in...</td>\n",
       "      <td>Where could you find a fp hunting when not in ...</td>\n",
       "      <td>fox</td>\n",
       "      <td>fp</td>\n",
       "      <td>2</td>\n",
       "      <td>23</td>\n",
       "      <td>25</td>\n",
       "      <td>0.4</td>\n",
       "      <td>-2.04</td>\n",
       "      <td>...</td>\n",
       "      <td>Where could you find a fox hunting when not in...</td>\n",
       "      <td>False</td>\n",
       "      <td>True</td>\n",
       "      <td>True</td>\n",
       "      <td>0</td>\n",
       "      <td>1</td>\n",
       "      <td>1</td>\n",
       "      <td>0</td>\n",
       "      <td>1</td>\n",
       "      <td>1.0</td>\n",
       "    </tr>\n",
       "    <tr>\n",
       "      <th>1481</th>\n",
       "      <td>247</td>\n",
       "      <td>Where could you find a fox hunting when not in...</td>\n",
       "      <td>Where could you find a fxx hunting when not in...</td>\n",
       "      <td>fox</td>\n",
       "      <td>fxx</td>\n",
       "      <td>1</td>\n",
       "      <td>23</td>\n",
       "      <td>26</td>\n",
       "      <td>0.5</td>\n",
       "      <td>-2.04</td>\n",
       "      <td>...</td>\n",
       "      <td>Where could you find a fox hunting when not in...</td>\n",
       "      <td>False</td>\n",
       "      <td>True</td>\n",
       "      <td>True</td>\n",
       "      <td>0</td>\n",
       "      <td>1</td>\n",
       "      <td>1</td>\n",
       "      <td>0</td>\n",
       "      <td>1</td>\n",
       "      <td>1.0</td>\n",
       "    </tr>\n",
       "    <tr>\n",
       "      <th>1484</th>\n",
       "      <td>248</td>\n",
       "      <td>Why might a person go to get counseling?</td>\n",
       "      <td>Why might a perrson go to get counseling?</td>\n",
       "      <td>person</td>\n",
       "      <td>perrson</td>\n",
       "      <td>1</td>\n",
       "      <td>12</td>\n",
       "      <td>19</td>\n",
       "      <td>0.2</td>\n",
       "      <td>-0.86</td>\n",
       "      <td>...</td>\n",
       "      <td>Why might a person go to get counseling?</td>\n",
       "      <td>False</td>\n",
       "      <td>True</td>\n",
       "      <td>True</td>\n",
       "      <td>0</td>\n",
       "      <td>1</td>\n",
       "      <td>1</td>\n",
       "      <td>0</td>\n",
       "      <td>1</td>\n",
       "      <td>1.0</td>\n",
       "    </tr>\n",
       "    <tr>\n",
       "      <th>1486</th>\n",
       "      <td>248</td>\n",
       "      <td>Why might a person go to get counseling?</td>\n",
       "      <td>Why might a pegrn go to get counseling?</td>\n",
       "      <td>person</td>\n",
       "      <td>pegrn</td>\n",
       "      <td>3</td>\n",
       "      <td>12</td>\n",
       "      <td>17</td>\n",
       "      <td>0.4</td>\n",
       "      <td>-0.86</td>\n",
       "      <td>...</td>\n",
       "      <td>Why might a person go to get counseling?</td>\n",
       "      <td>True</td>\n",
       "      <td>True</td>\n",
       "      <td>False</td>\n",
       "      <td>1</td>\n",
       "      <td>0</td>\n",
       "      <td>0</td>\n",
       "      <td>1</td>\n",
       "      <td>1</td>\n",
       "      <td>1.0</td>\n",
       "    </tr>\n",
       "    <tr>\n",
       "      <th>1487</th>\n",
       "      <td>248</td>\n",
       "      <td>Why might a person go to get counseling?</td>\n",
       "      <td>Why might a rej go to get counseling?</td>\n",
       "      <td>person</td>\n",
       "      <td>rej</td>\n",
       "      <td>5</td>\n",
       "      <td>12</td>\n",
       "      <td>15</td>\n",
       "      <td>0.5</td>\n",
       "      <td>-0.86</td>\n",
       "      <td>...</td>\n",
       "      <td>Why might a person go to get counseling?</td>\n",
       "      <td>True</td>\n",
       "      <td>True</td>\n",
       "      <td>True</td>\n",
       "      <td>1</td>\n",
       "      <td>1</td>\n",
       "      <td>0</td>\n",
       "      <td>0</td>\n",
       "      <td>1</td>\n",
       "      <td>1.0</td>\n",
       "    </tr>\n",
       "  </tbody>\n",
       "</table>\n",
       "<p>783 rows × 27 columns</p>\n",
       "</div>"
      ],
      "text/plain": [
       "      QuestionId                                   OriginalQuestion  \\\n",
       "7              2  Sammy wanted to go to where the people were.  ...   \n",
       "8              2  Sammy wanted to go to where the people were.  ...   \n",
       "9              2  Sammy wanted to go to where the people were.  ...   \n",
       "10             2  Sammy wanted to go to where the people were.  ...   \n",
       "11             2  Sammy wanted to go to where the people were.  ...   \n",
       "...          ...                                                ...   \n",
       "1480         247  Where could you find a fox hunting when not in...   \n",
       "1481         247  Where could you find a fox hunting when not in...   \n",
       "1484         248           Why might a person go to get counseling?   \n",
       "1486         248           Why might a person go to get counseling?   \n",
       "1487         248           Why might a person go to get counseling?   \n",
       "\n",
       "                                           TypoQuestion TargetWord TypoWord  \\\n",
       "7     Sammy wanted to go to where the epople were.  ...     people   epople   \n",
       "8     Sammy wanted to go to where the dpm were.  Whe...     people      dpm   \n",
       "9     Sammy wanted to go to where the peolpe were.  ...     people   peolpe   \n",
       "10    Sammy wanted to go to where the ppje were.  Wh...     people     ppje   \n",
       "11    Sammy wanted to go to where the pevel were.  W...     people    pevel   \n",
       "...                                                 ...        ...      ...   \n",
       "1480  Where could you find a fp hunting when not in ...        fox       fp   \n",
       "1481  Where could you find a fxx hunting when not in...        fox      fxx   \n",
       "1484          Why might a perrson go to get counseling?     person  perrson   \n",
       "1486            Why might a pegrn go to get counseling?     person    pegrn   \n",
       "1487              Why might a rej go to get counseling?     person      rej   \n",
       "\n",
       "      EditDistance  TargetStartIndex  TargetEndIndex    p  LogProbWord  ...  \\\n",
       "7                2                32              38  0.1        -1.92  ...   \n",
       "8                5                32              35  0.2        -1.92  ...   \n",
       "9                2                32              38  0.3        -1.92  ...   \n",
       "10               3                32              36  0.4        -1.92  ...   \n",
       "11               3                32              37  0.5        -1.92  ...   \n",
       "...            ...               ...             ...  ...          ...  ...   \n",
       "1480             2                23              25  0.4        -2.04  ...   \n",
       "1481             1                23              26  0.5        -2.04  ...   \n",
       "1484             1                12              19  0.2        -0.86  ...   \n",
       "1486             3                12              17  0.4        -0.86  ...   \n",
       "1487             5                12              15  0.5        -0.86  ...   \n",
       "\n",
       "                                      CorrectedQuestion  Correct  Valid  \\\n",
       "7     Sammy wanted to go to where the people were. W...     True   True   \n",
       "8     Sammy wanted to go to where the damp were. Whe...     True   True   \n",
       "9     Sammy wanted to go to where the people were. W...     True   True   \n",
       "10    Sammy wanted to go to where the people were. W...     True   True   \n",
       "11    Sammy wanted to go to where the people were. W...     True   True   \n",
       "...                                                 ...      ...    ...   \n",
       "1480  Where could you find a fox hunting when not in...    False   True   \n",
       "1481  Where could you find a fox hunting when not in...    False   True   \n",
       "1484           Why might a person go to get counseling?    False   True   \n",
       "1486           Why might a person go to get counseling?     True   True   \n",
       "1487           Why might a person go to get counseling?     True   True   \n",
       "\n",
       "     CorrectedCorrect CorrectInt CorrectedCorrectInt PositiveChangeCorrection  \\\n",
       "7                True          1                   1                        0   \n",
       "8                True          1                   1                        0   \n",
       "9                True          1                   1                        0   \n",
       "10               True          1                   1                        0   \n",
       "11               True          1                   1                        0   \n",
       "...               ...        ...                 ...                      ...   \n",
       "1480             True          0                   1                        1   \n",
       "1481             True          0                   1                        1   \n",
       "1484             True          0                   1                        1   \n",
       "1486            False          1                   0                        0   \n",
       "1487             True          1                   1                        0   \n",
       "\n",
       "     NegativeChangeCorrection  BaseCorrect  Filtered  \n",
       "7                           0            1       1.0  \n",
       "8                           0            1       1.0  \n",
       "9                           0            1       1.0  \n",
       "10                          0            1       1.0  \n",
       "11                          0            1       1.0  \n",
       "...                       ...          ...       ...  \n",
       "1480                        0            1       1.0  \n",
       "1481                        0            1       1.0  \n",
       "1484                        0            1       1.0  \n",
       "1486                        1            1       1.0  \n",
       "1487                        0            1       1.0  \n",
       "\n",
       "[783 rows x 27 columns]"
      ]
     },
     "execution_count": 80,
     "metadata": {},
     "output_type": "execute_result"
    }
   ],
   "source": [
    "results"
   ]
  },
  {
   "cell_type": "code",
   "execution_count": 87,
   "metadata": {},
   "outputs": [
    {
     "name": "stderr",
     "output_type": "stream",
     "text": [
      "/var/folders/_6/_8xn00vj0gz5g10qr8khtxz40000gn/T/ipykernel_88206/1790367992.py:10: FutureWarning: The default of observed=False is deprecated and will be changed to True in a future version of pandas. Pass observed=False to retain current behavior or observed=True to adopt the future default and silence this warning.\n",
      "  avg_correct_int = results.groupby('Bin')['CorrectInt'].mean()\n"
     ]
    },
    {
     "data": {
      "text/plain": [
       "<AxesSubplot: xlabel='Bin'>"
      ]
     },
     "execution_count": 87,
     "metadata": {},
     "output_type": "execute_result"
    },
    {
     "data": {
      "image/png": "[encoded data removed]",
      "text/plain": [
       "<Figure size 640x480 with 1 Axes>"
      ]
     },
     "metadata": {},
     "output_type": "display_data"
    }
   ],
   "source": [
    "import numpy as np\n",
    "\n",
    "# Define the bin edges\n",
    "bin_edges = np.arange(-8, 0.5, 0.5)\n",
    "\n",
    "# Create a new column 'Bin' in the dataframe to store the bin labels\n",
    "results['Bin'] = pd.cut(results['LogProbWord'], bins=bin_edges)\n",
    "\n",
    "# Calculate the average CorrectInt for each bin\n",
    "avg_correct_int = results.groupby('Bin')['CorrectInt'].mean()\n",
    "\n",
    "# Plot the data\n",
    "avg_correct_int.plot()\n"
   ]
  },
  {
   "cell_type": "code",
   "execution_count": 88,
   "metadata": {},
   "outputs": [
    {
     "data": {
      "text/plain": [
       "<AxesSubplot: >"
      ]
     },
     "execution_count": 88,
     "metadata": {},
     "output_type": "execute_result"
    },
    {
     "data": {
      "image/png": "[encoded data removed]",
      "text/plain": [
       "<Figure size 640x480 with 1 Axes>"
      ]
     },
     "metadata": {},
     "output_type": "display_data"
    }
   ],
   "source": [
    "results['LogProbWord'].hist(bins=20)"
   ]
  },
  {
   "cell_type": "code",
   "execution_count": 236,
   "metadata": {},
   "outputs": [
    {
     "name": "stdout",
     "output_type": "stream",
     "text": [
      "-8\n",
      "0.42857142857142855\n",
      "\n",
      "-7\n",
      "0.8918918918918919\n",
      "\n",
      "-6\n",
      "0.8296703296703297\n",
      "\n",
      "-5\n",
      "0.8231292517006803\n",
      "\n",
      "-4\n",
      "0.8949771689497716\n",
      "\n",
      "-3\n",
      "0.8925619834710744\n",
      "\n",
      "-2\n",
      "0.8985849056603774\n",
      "\n",
      "-1\n",
      "0.9354838709677419\n",
      "\n",
      "0\n",
      "0.9717514124293786\n",
      "\n"
     ]
    }
   ],
   "source": [
    "for num in np.arange(-8, 1, 1):\n",
    "    print(num)\n",
    "    print(results[(num - .5 < results['LogProbWord']) & (results['LogProbWord'] < num + .5)]['CorrectInt'].mean())\n",
    "    print()"
   ]
  },
  {
   "cell_type": "code",
   "execution_count": 237,
   "metadata": {},
   "outputs": [
    {
     "data": {
      "text/html": [
       "<div>\n",
       "<style scoped>\n",
       "    .dataframe tbody tr th:only-of-type {\n",
       "        vertical-align: middle;\n",
       "    }\n",
       "\n",
       "    .dataframe tbody tr th {\n",
       "        vertical-align: top;\n",
       "    }\n",
       "\n",
       "    .dataframe thead th {\n",
       "        text-align: right;\n",
       "    }\n",
       "</style>\n",
       "<table border=\"1\" class=\"dataframe\">\n",
       "  <thead>\n",
       "    <tr style=\"text-align: right;\">\n",
       "      <th></th>\n",
       "      <th>Unnamed: 0</th>\n",
       "      <th>OriginalQuestion</th>\n",
       "      <th>TypoQuestion</th>\n",
       "      <th>TargetWord</th>\n",
       "      <th>TypoWord</th>\n",
       "      <th>EditDistance</th>\n",
       "      <th>TargetStartIndex</th>\n",
       "      <th>TargetEndIndex</th>\n",
       "      <th>p</th>\n",
       "      <th>Id</th>\n",
       "      <th>...</th>\n",
       "      <th>CorrectAnswer</th>\n",
       "      <th>Answer</th>\n",
       "      <th>Correct</th>\n",
       "      <th>Valid</th>\n",
       "      <th>CorrectedQuestion</th>\n",
       "      <th>CorrectedAnswer</th>\n",
       "      <th>CorrectedCorrect</th>\n",
       "      <th>CorrectInt</th>\n",
       "      <th>CorrectedCorrectInt</th>\n",
       "      <th>NormalizedEditDistance</th>\n",
       "    </tr>\n",
       "  </thead>\n",
       "  <tbody>\n",
       "    <tr>\n",
       "      <th>0</th>\n",
       "      <td>0</td>\n",
       "      <td>The sanctions against the school were a punish...</td>\n",
       "      <td>The sanctions against the school were a punish...</td>\n",
       "      <td>punishing</td>\n",
       "      <td>punishing</td>\n",
       "      <td>0</td>\n",
       "      <td>40</td>\n",
       "      <td>49</td>\n",
       "      <td>0.0</td>\n",
       "      <td>0</td>\n",
       "      <td>...</td>\n",
       "      <td>A) ignore</td>\n",
       "      <td>A) ignore</td>\n",
       "      <td>True</td>\n",
       "      <td>True</td>\n",
       "      <td>The sanctions against the school were a punish...</td>\n",
       "      <td>A) ignore</td>\n",
       "      <td>True</td>\n",
       "      <td>1</td>\n",
       "      <td>1</td>\n",
       "      <td>0.000000</td>\n",
       "    </tr>\n",
       "    <tr>\n",
       "      <th>1</th>\n",
       "      <td>1</td>\n",
       "      <td>The sanctions against the school were a punish...</td>\n",
       "      <td>The sanctions against the school were a pusihn...</td>\n",
       "      <td>punishing</td>\n",
       "      <td>pusihng</td>\n",
       "      <td>3</td>\n",
       "      <td>40</td>\n",
       "      <td>47</td>\n",
       "      <td>0.2</td>\n",
       "      <td>0</td>\n",
       "      <td>...</td>\n",
       "      <td>A) ignore</td>\n",
       "      <td>B) enforce</td>\n",
       "      <td>False</td>\n",
       "      <td>True</td>\n",
       "      <td>The sanctions against the school were a crushi...</td>\n",
       "      <td>B) enforce</td>\n",
       "      <td>False</td>\n",
       "      <td>0</td>\n",
       "      <td>0</td>\n",
       "      <td>0.333333</td>\n",
       "    </tr>\n",
       "    <tr>\n",
       "      <th>2</th>\n",
       "      <td>2</td>\n",
       "      <td>The sanctions against the school were a punish...</td>\n",
       "      <td>The sanctions against the school were a punich...</td>\n",
       "      <td>punishing</td>\n",
       "      <td>punichin</td>\n",
       "      <td>2</td>\n",
       "      <td>40</td>\n",
       "      <td>48</td>\n",
       "      <td>0.4</td>\n",
       "      <td>0</td>\n",
       "      <td>...</td>\n",
       "      <td>A) ignore</td>\n",
       "      <td>B) enforce</td>\n",
       "      <td>False</td>\n",
       "      <td>True</td>\n",
       "      <td>The sanctions against the school were a punish...</td>\n",
       "      <td>A) ignore</td>\n",
       "      <td>True</td>\n",
       "      <td>0</td>\n",
       "      <td>1</td>\n",
       "      <td>0.222222</td>\n",
       "    </tr>\n",
       "    <tr>\n",
       "      <th>3</th>\n",
       "      <td>3</td>\n",
       "      <td>The sanctions against the school were a punish...</td>\n",
       "      <td>The sanctions against the school were a puunsz...</td>\n",
       "      <td>punishing</td>\n",
       "      <td>puunszzy</td>\n",
       "      <td>6</td>\n",
       "      <td>40</td>\n",
       "      <td>48</td>\n",
       "      <td>0.8</td>\n",
       "      <td>0</td>\n",
       "      <td>...</td>\n",
       "      <td>A) ignore</td>\n",
       "      <td>B) enforce</td>\n",
       "      <td>False</td>\n",
       "      <td>True</td>\n",
       "      <td>The sanctions against the school were a punish...</td>\n",
       "      <td>A) ignore</td>\n",
       "      <td>True</td>\n",
       "      <td>0</td>\n",
       "      <td>1</td>\n",
       "      <td>0.666667</td>\n",
       "    </tr>\n",
       "    <tr>\n",
       "      <th>4</th>\n",
       "      <td>4</td>\n",
       "      <td>Sammy wanted to go to where the people were.  ...</td>\n",
       "      <td>Sammy wanted to go to where the people were.  ...</td>\n",
       "      <td>people</td>\n",
       "      <td>people</td>\n",
       "      <td>0</td>\n",
       "      <td>32</td>\n",
       "      <td>38</td>\n",
       "      <td>0.0</td>\n",
       "      <td>1</td>\n",
       "      <td>...</td>\n",
       "      <td>B) populated areas</td>\n",
       "      <td>B) populated areas</td>\n",
       "      <td>True</td>\n",
       "      <td>True</td>\n",
       "      <td>Sammy wanted to go to where the people were. W...</td>\n",
       "      <td>B) populated areas</td>\n",
       "      <td>True</td>\n",
       "      <td>1</td>\n",
       "      <td>1</td>\n",
       "      <td>0.000000</td>\n",
       "    </tr>\n",
       "    <tr>\n",
       "      <th>...</th>\n",
       "      <td>...</td>\n",
       "      <td>...</td>\n",
       "      <td>...</td>\n",
       "      <td>...</td>\n",
       "      <td>...</td>\n",
       "      <td>...</td>\n",
       "      <td>...</td>\n",
       "      <td>...</td>\n",
       "      <td>...</td>\n",
       "      <td>...</td>\n",
       "      <td>...</td>\n",
       "      <td>...</td>\n",
       "      <td>...</td>\n",
       "      <td>...</td>\n",
       "      <td>...</td>\n",
       "      <td>...</td>\n",
       "      <td>...</td>\n",
       "      <td>...</td>\n",
       "      <td>...</td>\n",
       "      <td>...</td>\n",
       "      <td>...</td>\n",
       "    </tr>\n",
       "    <tr>\n",
       "      <th>3221</th>\n",
       "      <td>3221</td>\n",
       "      <td>The team was able to communicate effectively, ...</td>\n",
       "      <td>The team was able to communicate effectively, ...</td>\n",
       "      <td>communicate</td>\n",
       "      <td>communicate</td>\n",
       "      <td>0</td>\n",
       "      <td>21</td>\n",
       "      <td>32</td>\n",
       "      <td>0.0</td>\n",
       "      <td>999</td>\n",
       "      <td>...</td>\n",
       "      <td>D) think</td>\n",
       "      <td>D) think</td>\n",
       "      <td>True</td>\n",
       "      <td>True</td>\n",
       "      <td>The team was able to communicate effectively, ...</td>\n",
       "      <td>D) think</td>\n",
       "      <td>True</td>\n",
       "      <td>1</td>\n",
       "      <td>1</td>\n",
       "      <td>0.000000</td>\n",
       "    </tr>\n",
       "    <tr>\n",
       "      <th>3222</th>\n",
       "      <td>3222</td>\n",
       "      <td>The team was able to communicate effectively, ...</td>\n",
       "      <td>The team was able to colmulicate effectively, ...</td>\n",
       "      <td>communicate</td>\n",
       "      <td>colmulicate</td>\n",
       "      <td>2</td>\n",
       "      <td>21</td>\n",
       "      <td>32</td>\n",
       "      <td>0.1</td>\n",
       "      <td>999</td>\n",
       "      <td>...</td>\n",
       "      <td>D) think</td>\n",
       "      <td>D) think</td>\n",
       "      <td>True</td>\n",
       "      <td>True</td>\n",
       "      <td>The team was able to communicate effectively, ...</td>\n",
       "      <td>D) think</td>\n",
       "      <td>True</td>\n",
       "      <td>1</td>\n",
       "      <td>1</td>\n",
       "      <td>0.181818</td>\n",
       "    </tr>\n",
       "    <tr>\n",
       "      <th>3223</th>\n",
       "      <td>3223</td>\n",
       "      <td>The team was able to communicate effectively, ...</td>\n",
       "      <td>The team was able to cojmunnicate effectively,...</td>\n",
       "      <td>communicate</td>\n",
       "      <td>cojmunnicate</td>\n",
       "      <td>2</td>\n",
       "      <td>21</td>\n",
       "      <td>33</td>\n",
       "      <td>0.2</td>\n",
       "      <td>999</td>\n",
       "      <td>...</td>\n",
       "      <td>D) think</td>\n",
       "      <td>D) think</td>\n",
       "      <td>True</td>\n",
       "      <td>True</td>\n",
       "      <td>The team was able to communicate effectively, ...</td>\n",
       "      <td>D) think</td>\n",
       "      <td>True</td>\n",
       "      <td>1</td>\n",
       "      <td>1</td>\n",
       "      <td>0.181818</td>\n",
       "    </tr>\n",
       "    <tr>\n",
       "      <th>3224</th>\n",
       "      <td>3224</td>\n",
       "      <td>The team was able to communicate effectively, ...</td>\n",
       "      <td>The team was able to commmuvcoaate effectively...</td>\n",
       "      <td>communicate</td>\n",
       "      <td>commmuvcoaate</td>\n",
       "      <td>5</td>\n",
       "      <td>21</td>\n",
       "      <td>34</td>\n",
       "      <td>0.4</td>\n",
       "      <td>999</td>\n",
       "      <td>...</td>\n",
       "      <td>D) think</td>\n",
       "      <td>D) think</td>\n",
       "      <td>True</td>\n",
       "      <td>True</td>\n",
       "      <td>The team was able to communicate effectively, ...</td>\n",
       "      <td>D) think</td>\n",
       "      <td>True</td>\n",
       "      <td>1</td>\n",
       "      <td>1</td>\n",
       "      <td>0.454545</td>\n",
       "    </tr>\n",
       "    <tr>\n",
       "      <th>3225</th>\n",
       "      <td>3225</td>\n",
       "      <td>The team was able to communicate effectively, ...</td>\n",
       "      <td>The team was able to oqlntev effectively, they...</td>\n",
       "      <td>communicate</td>\n",
       "      <td>oqlntev</td>\n",
       "      <td>8</td>\n",
       "      <td>21</td>\n",
       "      <td>28</td>\n",
       "      <td>0.8</td>\n",
       "      <td>999</td>\n",
       "      <td>...</td>\n",
       "      <td>D) think</td>\n",
       "      <td>D) think</td>\n",
       "      <td>True</td>\n",
       "      <td>True</td>\n",
       "      <td>The team was able to communicate effectively, ...</td>\n",
       "      <td>D) think</td>\n",
       "      <td>True</td>\n",
       "      <td>1</td>\n",
       "      <td>1</td>\n",
       "      <td>0.727273</td>\n",
       "    </tr>\n",
       "  </tbody>\n",
       "</table>\n",
       "<p>3226 rows × 26 columns</p>\n",
       "</div>"
      ],
      "text/plain": [
       "      Unnamed: 0                                   OriginalQuestion  \\\n",
       "0              0  The sanctions against the school were a punish...   \n",
       "1              1  The sanctions against the school were a punish...   \n",
       "2              2  The sanctions against the school were a punish...   \n",
       "3              3  The sanctions against the school were a punish...   \n",
       "4              4  Sammy wanted to go to where the people were.  ...   \n",
       "...          ...                                                ...   \n",
       "3221        3221  The team was able to communicate effectively, ...   \n",
       "3222        3222  The team was able to communicate effectively, ...   \n",
       "3223        3223  The team was able to communicate effectively, ...   \n",
       "3224        3224  The team was able to communicate effectively, ...   \n",
       "3225        3225  The team was able to communicate effectively, ...   \n",
       "\n",
       "                                           TypoQuestion   TargetWord  \\\n",
       "0     The sanctions against the school were a punish...    punishing   \n",
       "1     The sanctions against the school were a pusihn...    punishing   \n",
       "2     The sanctions against the school were a punich...    punishing   \n",
       "3     The sanctions against the school were a puunsz...    punishing   \n",
       "4     Sammy wanted to go to where the people were.  ...       people   \n",
       "...                                                 ...          ...   \n",
       "3221  The team was able to communicate effectively, ...  communicate   \n",
       "3222  The team was able to colmulicate effectively, ...  communicate   \n",
       "3223  The team was able to cojmunnicate effectively,...  communicate   \n",
       "3224  The team was able to commmuvcoaate effectively...  communicate   \n",
       "3225  The team was able to oqlntev effectively, they...  communicate   \n",
       "\n",
       "           TypoWord  EditDistance  TargetStartIndex  TargetEndIndex    p   Id  \\\n",
       "0         punishing             0                40              49  0.0    0   \n",
       "1           pusihng             3                40              47  0.2    0   \n",
       "2          punichin             2                40              48  0.4    0   \n",
       "3          puunszzy             6                40              48  0.8    0   \n",
       "4            people             0                32              38  0.0    1   \n",
       "...             ...           ...               ...             ...  ...  ...   \n",
       "3221    communicate             0                21              32  0.0  999   \n",
       "3222    colmulicate             2                21              32  0.1  999   \n",
       "3223   cojmunnicate             2                21              33  0.2  999   \n",
       "3224  commmuvcoaate             5                21              34  0.4  999   \n",
       "3225        oqlntev             8                21              28  0.8  999   \n",
       "\n",
       "      ...       CorrectAnswer              Answer Correct  Valid  \\\n",
       "0     ...           A) ignore           A) ignore    True   True   \n",
       "1     ...           A) ignore          B) enforce   False   True   \n",
       "2     ...           A) ignore          B) enforce   False   True   \n",
       "3     ...           A) ignore          B) enforce   False   True   \n",
       "4     ...  B) populated areas  B) populated areas    True   True   \n",
       "...   ...                 ...                 ...     ...    ...   \n",
       "3221  ...            D) think            D) think    True   True   \n",
       "3222  ...            D) think            D) think    True   True   \n",
       "3223  ...            D) think            D) think    True   True   \n",
       "3224  ...            D) think            D) think    True   True   \n",
       "3225  ...            D) think            D) think    True   True   \n",
       "\n",
       "                                      CorrectedQuestion     CorrectedAnswer  \\\n",
       "0     The sanctions against the school were a punish...           A) ignore   \n",
       "1     The sanctions against the school were a crushi...          B) enforce   \n",
       "2     The sanctions against the school were a punish...           A) ignore   \n",
       "3     The sanctions against the school were a punish...           A) ignore   \n",
       "4     Sammy wanted to go to where the people were. W...  B) populated areas   \n",
       "...                                                 ...                 ...   \n",
       "3221  The team was able to communicate effectively, ...            D) think   \n",
       "3222  The team was able to communicate effectively, ...            D) think   \n",
       "3223  The team was able to communicate effectively, ...            D) think   \n",
       "3224  The team was able to communicate effectively, ...            D) think   \n",
       "3225  The team was able to communicate effectively, ...            D) think   \n",
       "\n",
       "     CorrectedCorrect CorrectInt  CorrectedCorrectInt  NormalizedEditDistance  \n",
       "0                True          1                    1                0.000000  \n",
       "1               False          0                    0                0.333333  \n",
       "2                True          0                    1                0.222222  \n",
       "3                True          0                    1                0.666667  \n",
       "4                True          1                    1                0.000000  \n",
       "...               ...        ...                  ...                     ...  \n",
       "3221             True          1                    1                0.000000  \n",
       "3222             True          1                    1                0.181818  \n",
       "3223             True          1                    1                0.181818  \n",
       "3224             True          1                    1                0.454545  \n",
       "3225             True          1                    1                0.727273  \n",
       "\n",
       "[3226 rows x 26 columns]"
      ]
     },
     "execution_count": 237,
     "metadata": {},
     "output_type": "execute_result"
    }
   ],
   "source": [
    "results = pd.read_csv('results_experiment_4.csv')\n",
    "results['NormalizedEditDistance'] = results.apply(lambda row: row['EditDistance'] / (row['EndIndex'] - row['StartIndex']), axis=1)\n",
    "results"
   ]
  },
  {
   "cell_type": "code",
   "execution_count": 238,
   "metadata": {},
   "outputs": [],
   "source": [
    "results = results[results['p'] != 0]"
   ]
  },
  {
   "cell_type": "code",
   "execution_count": 239,
   "metadata": {},
   "outputs": [
    {
     "data": {
      "text/plain": [
       "<AxesSubplot: >"
      ]
     },
     "execution_count": 239,
     "metadata": {},
     "output_type": "execute_result"
    },
    {
     "data": {
      "image/png": "[encoded data removed]",
      "text/plain": [
       "<Figure size 640x480 with 1 Axes>"
      ]
     },
     "metadata": {},
     "output_type": "display_data"
    }
   ],
   "source": [
    "results['p'].hist(bins=20)"
   ]
  },
  {
   "cell_type": "code",
   "execution_count": 262,
   "metadata": {},
   "outputs": [
    {
     "name": "stderr",
     "output_type": "stream",
     "text": [
      "/var/folders/_6/_8xn00vj0gz5g10qr8khtxz40000gn/T/ipykernel_88206/3936681923.py:7: SettingWithCopyWarning:\n",
      "\n",
      "\n",
      "A value is trying to be set on a copy of a slice from a DataFrame.\n",
      "Try using .loc[row_indexer,col_indexer] = value instead\n",
      "\n",
      "See the caveats in the documentation: https://pandas.pydata.org/pandas-docs/stable/user_guide/indexing.html#returning-a-view-versus-a-copy\n",
      "\n",
      "/var/folders/_6/_8xn00vj0gz5g10qr8khtxz40000gn/T/ipykernel_88206/3936681923.py:10: FutureWarning:\n",
      "\n",
      "The default of observed=False is deprecated and will be changed to True in a future version of pandas. Pass observed=False to retain current behavior or observed=True to adopt the future default and silence this warning.\n",
      "\n",
      "/var/folders/_6/_8xn00vj0gz5g10qr8khtxz40000gn/T/ipykernel_88206/3936681923.py:11: FutureWarning:\n",
      "\n",
      "The default of observed=False is deprecated and will be changed to True in a future version of pandas. Pass observed=False to retain current behavior or observed=True to adopt the future default and silence this warning.\n",
      "\n"
     ]
    },
    {
     "data": {
      "application/vnd.plotly.v1+json": {
       "config": {
        "plotlyServerURL": "https://plot.ly"
       },
       "data": [
        {
         "hovertemplate": "x=%{x}<br>y=%{y}<br>size=%{marker.size}<extra></extra>",
         "legendgroup": "",
         "marker": {
          "color": "#636efa",
          "size": [
           20,
           81,
           268,
           377,
           445,
           470,
           428,
           354
          ],
          "sizemode": "area",
          "sizeref": 1.175,
          "symbol": "circle"
         },
         "mode": "markers",
         "name": "",
         "orientation": "v",
         "showlegend": false,
         "type": "scatter",
         "x": [
          "(-8, -7]",
          "(-7, -6]",
          "(-6, -5]",
          "(-5, -4]",
          "(-4, -3]",
          "(-3, -2]",
          "(-2, -1]",
          "(-1, 0]"
         ],
         "xaxis": "x",
         "y": [
          0.7,
          0.8765432098765432,
          0.8208955223880597,
          0.8912466843501327,
          0.8786516853932584,
          0.8872340425531915,
          0.9205607476635514,
          0.9576271186440678
         ],
         "yaxis": "y"
        }
       ],
       "layout": {
        "height": 480,
        "legend": {
         "itemsizing": "constant",
         "tracegroupgap": 0
        },
        "margin": {
         "t": 60
        },
        "template": {
         "data": {
          "bar": [
           {
            "error_x": {
             "color": "#2a3f5f"
            },
            "error_y": {
             "color": "#2a3f5f"
            },
            "marker": {
             "line": {
              "color": "#E5ECF6",
              "width": 0.5
             },
             "pattern": {
              "fillmode": "overlay",
              "size": 10,
              "solidity": 0.2
             }
            },
            "type": "bar"
           }
          ],
          "barpolar": [
           {
            "marker": {
             "line": {
              "color": "#E5ECF6",
              "width": 0.5
             },
             "pattern": {
              "fillmode": "overlay",
              "size": 10,
              "solidity": 0.2
             }
            },
            "type": "barpolar"
           }
          ],
          "carpet": [
           {
            "aaxis": {
             "endlinecolor": "#2a3f5f",
             "gridcolor": "white",
             "linecolor": "white",
             "minorgridcolor": "white",
             "startlinecolor": "#2a3f5f"
            },
            "baxis": {
             "endlinecolor": "#2a3f5f",
             "gridcolor": "white",
             "linecolor": "white",
             "minorgridcolor": "white",
             "startlinecolor": "#2a3f5f"
            },
            "type": "carpet"
           }
          ],
          "choropleth": [
           {
            "colorbar": {
             "outlinewidth": 0,
             "ticks": ""
            },
            "type": "choropleth"
           }
          ],
          "contour": [
           {
            "colorbar": {
             "outlinewidth": 0,
             "ticks": ""
            },
            "colorscale": [
             [
              0,
              "#0d0887"
             ],
             [
              0.1111111111111111,
              "#46039f"
             ],
             [
              0.2222222222222222,
              "#7201a8"
             ],
             [
              0.3333333333333333,
              "#9c179e"
             ],
             [
              0.4444444444444444,
              "#bd3786"
             ],
             [
              0.5555555555555556,
              "#d8576b"
             ],
             [
              0.6666666666666666,
              "#ed7953"
             ],
             [
              0.7777777777777778,
              "#fb9f3a"
             ],
             [
              0.8888888888888888,
              "#fdca26"
             ],
             [
              1,
              "#f0f921"
             ]
            ],
            "type": "contour"
           }
          ],
          "contourcarpet": [
           {
            "colorbar": {
             "outlinewidth": 0,
             "ticks": ""
            },
            "type": "contourcarpet"
           }
          ],
          "heatmap": [
           {
            "colorbar": {
             "outlinewidth": 0,
             "ticks": ""
            },
            "colorscale": [
             [
              0,
              "#0d0887"
             ],
             [
              0.1111111111111111,
              "#46039f"
             ],
             [
              0.2222222222222222,
              "#7201a8"
             ],
             [
              0.3333333333333333,
              "#9c179e"
             ],
             [
              0.4444444444444444,
              "#bd3786"
             ],
             [
              0.5555555555555556,
              "#d8576b"
             ],
             [
              0.6666666666666666,
              "#ed7953"
             ],
             [
              0.7777777777777778,
              "#fb9f3a"
             ],
             [
              0.8888888888888888,
              "#fdca26"
             ],
             [
              1,
              "#f0f921"
             ]
            ],
            "type": "heatmap"
           }
          ],
          "heatmapgl": [
           {
            "colorbar": {
             "outlinewidth": 0,
             "ticks": ""
            },
            "colorscale": [
             [
              0,
              "#0d0887"
             ],
             [
              0.1111111111111111,
              "#46039f"
             ],
             [
              0.2222222222222222,
              "#7201a8"
             ],
             [
              0.3333333333333333,
              "#9c179e"
             ],
             [
              0.4444444444444444,
              "#bd3786"
             ],
             [
              0.5555555555555556,
              "#d8576b"
             ],
             [
              0.6666666666666666,
              "#ed7953"
             ],
             [
              0.7777777777777778,
              "#fb9f3a"
             ],
             [
              0.8888888888888888,
              "#fdca26"
             ],
             [
              1,
              "#f0f921"
             ]
            ],
            "type": "heatmapgl"
           }
          ],
          "histogram": [
           {
            "marker": {
             "pattern": {
              "fillmode": "overlay",
              "size": 10,
              "solidity": 0.2
             }
            },
            "type": "histogram"
           }
          ],
          "histogram2d": [
           {
            "colorbar": {
             "outlinewidth": 0,
             "ticks": ""
            },
            "colorscale": [
             [
              0,
              "#0d0887"
             ],
             [
              0.1111111111111111,
              "#46039f"
             ],
             [
              0.2222222222222222,
              "#7201a8"
             ],
             [
              0.3333333333333333,
              "#9c179e"
             ],
             [
              0.4444444444444444,
              "#bd3786"
             ],
             [
              0.5555555555555556,
              "#d8576b"
             ],
             [
              0.6666666666666666,
              "#ed7953"
             ],
             [
              0.7777777777777778,
              "#fb9f3a"
             ],
             [
              0.8888888888888888,
              "#fdca26"
             ],
             [
              1,
              "#f0f921"
             ]
            ],
            "type": "histogram2d"
           }
          ],
          "histogram2dcontour": [
           {
            "colorbar": {
             "outlinewidth": 0,
             "ticks": ""
            },
            "colorscale": [
             [
              0,
              "#0d0887"
             ],
             [
              0.1111111111111111,
              "#46039f"
             ],
             [
              0.2222222222222222,
              "#7201a8"
             ],
             [
              0.3333333333333333,
              "#9c179e"
             ],
             [
              0.4444444444444444,
              "#bd3786"
             ],
             [
              0.5555555555555556,
              "#d8576b"
             ],
             [
              0.6666666666666666,
              "#ed7953"
             ],
             [
              0.7777777777777778,
              "#fb9f3a"
             ],
             [
              0.8888888888888888,
              "#fdca26"
             ],
             [
              1,
              "#f0f921"
             ]
            ],
            "type": "histogram2dcontour"
           }
          ],
          "mesh3d": [
           {
            "colorbar": {
             "outlinewidth": 0,
             "ticks": ""
            },
            "type": "mesh3d"
           }
          ],
          "parcoords": [
           {
            "line": {
             "colorbar": {
              "outlinewidth": 0,
              "ticks": ""
             }
            },
            "type": "parcoords"
           }
          ],
          "pie": [
           {
            "automargin": true,
            "type": "pie"
           }
          ],
          "scatter": [
           {
            "fillpattern": {
             "fillmode": "overlay",
             "size": 10,
             "solidity": 0.2
            },
            "type": "scatter"
           }
          ],
          "scatter3d": [
           {
            "line": {
             "colorbar": {
              "outlinewidth": 0,
              "ticks": ""
             }
            },
            "marker": {
             "colorbar": {
              "outlinewidth": 0,
              "ticks": ""
             }
            },
            "type": "scatter3d"
           }
          ],
          "scattercarpet": [
           {
            "marker": {
             "colorbar": {
              "outlinewidth": 0,
              "ticks": ""
             }
            },
            "type": "scattercarpet"
           }
          ],
          "scattergeo": [
           {
            "marker": {
             "colorbar": {
              "outlinewidth": 0,
              "ticks": ""
             }
            },
            "type": "scattergeo"
           }
          ],
          "scattergl": [
           {
            "marker": {
             "colorbar": {
              "outlinewidth": 0,
              "ticks": ""
             }
            },
            "type": "scattergl"
           }
          ],
          "scattermapbox": [
           {
            "marker": {
             "colorbar": {
              "outlinewidth": 0,
              "ticks": ""
             }
            },
            "type": "scattermapbox"
           }
          ],
          "scatterpolar": [
           {
            "marker": {
             "colorbar": {
              "outlinewidth": 0,
              "ticks": ""
             }
            },
            "type": "scatterpolar"
           }
          ],
          "scatterpolargl": [
           {
            "marker": {
             "colorbar": {
              "outlinewidth": 0,
              "ticks": ""
             }
            },
            "type": "scatterpolargl"
           }
          ],
          "scatterternary": [
           {
            "marker": {
             "colorbar": {
              "outlinewidth": 0,
              "ticks": ""
             }
            },
            "type": "scatterternary"
           }
          ],
          "surface": [
           {
            "colorbar": {
             "outlinewidth": 0,
             "ticks": ""
            },
            "colorscale": [
             [
              0,
              "#0d0887"
             ],
             [
              0.1111111111111111,
              "#46039f"
             ],
             [
              0.2222222222222222,
              "#7201a8"
             ],
             [
              0.3333333333333333,
              "#9c179e"
             ],
             [
              0.4444444444444444,
              "#bd3786"
             ],
             [
              0.5555555555555556,
              "#d8576b"
             ],
             [
              0.6666666666666666,
              "#ed7953"
             ],
             [
              0.7777777777777778,
              "#fb9f3a"
             ],
             [
              0.8888888888888888,
              "#fdca26"
             ],
             [
              1,
              "#f0f921"
             ]
            ],
            "type": "surface"
           }
          ],
          "table": [
           {
            "cells": {
             "fill": {
              "color": "#EBF0F8"
             },
             "line": {
              "color": "white"
             }
            },
            "header": {
             "fill": {
              "color": "#C8D4E3"
             },
             "line": {
              "color": "white"
             }
            },
            "type": "table"
           }
          ]
         },
         "layout": {
          "annotationdefaults": {
           "arrowcolor": "#2a3f5f",
           "arrowhead": 0,
           "arrowwidth": 1
          },
          "autotypenumbers": "strict",
          "coloraxis": {
           "colorbar": {
            "outlinewidth": 0,
            "ticks": ""
           }
          },
          "colorscale": {
           "diverging": [
            [
             0,
             "#8e0152"
            ],
            [
             0.1,
             "#c51b7d"
            ],
            [
             0.2,
             "#de77ae"
            ],
            [
             0.3,
             "#f1b6da"
            ],
            [
             0.4,
             "#fde0ef"
            ],
            [
             0.5,
             "#f7f7f7"
            ],
            [
             0.6,
             "#e6f5d0"
            ],
            [
             0.7,
             "#b8e186"
            ],
            [
             0.8,
             "#7fbc41"
            ],
            [
             0.9,
             "#4d9221"
            ],
            [
             1,
             "#276419"
            ]
           ],
           "sequential": [
            [
             0,
             "#0d0887"
            ],
            [
             0.1111111111111111,
             "#46039f"
            ],
            [
             0.2222222222222222,
             "#7201a8"
            ],
            [
             0.3333333333333333,
             "#9c179e"
            ],
            [
             0.4444444444444444,
             "#bd3786"
            ],
            [
             0.5555555555555556,
             "#d8576b"
            ],
            [
             0.6666666666666666,
             "#ed7953"
            ],
            [
             0.7777777777777778,
             "#fb9f3a"
            ],
            [
             0.8888888888888888,
             "#fdca26"
            ],
            [
             1,
             "#f0f921"
            ]
           ],
           "sequentialminus": [
            [
             0,
             "#0d0887"
            ],
            [
             0.1111111111111111,
             "#46039f"
            ],
            [
             0.2222222222222222,
             "#7201a8"
            ],
            [
             0.3333333333333333,
             "#9c179e"
            ],
            [
             0.4444444444444444,
             "#bd3786"
            ],
            [
             0.5555555555555556,
             "#d8576b"
            ],
            [
             0.6666666666666666,
             "#ed7953"
            ],
            [
             0.7777777777777778,
             "#fb9f3a"
            ],
            [
             0.8888888888888888,
             "#fdca26"
            ],
            [
             1,
             "#f0f921"
            ]
           ]
          },
          "colorway": [
           "#636efa",
           "#EF553B",
           "#00cc96",
           "#ab63fa",
           "#FFA15A",
           "#19d3f3",
           "#FF6692",
           "#B6E880",
           "#FF97FF",
           "#FECB52"
          ],
          "font": {
           "color": "#2a3f5f"
          },
          "geo": {
           "bgcolor": "white",
           "lakecolor": "white",
           "landcolor": "#E5ECF6",
           "showlakes": true,
           "showland": true,
           "subunitcolor": "white"
          },
          "hoverlabel": {
           "align": "left"
          },
          "hovermode": "closest",
          "mapbox": {
           "style": "light"
          },
          "paper_bgcolor": "white",
          "plot_bgcolor": "#E5ECF6",
          "polar": {
           "angularaxis": {
            "gridcolor": "white",
            "linecolor": "white",
            "ticks": ""
           },
           "bgcolor": "#E5ECF6",
           "radialaxis": {
            "gridcolor": "white",
            "linecolor": "white",
            "ticks": ""
           }
          },
          "scene": {
           "xaxis": {
            "backgroundcolor": "#E5ECF6",
            "gridcolor": "white",
            "gridwidth": 2,
            "linecolor": "white",
            "showbackground": true,
            "ticks": "",
            "zerolinecolor": "white"
           },
           "yaxis": {
            "backgroundcolor": "#E5ECF6",
            "gridcolor": "white",
            "gridwidth": 2,
            "linecolor": "white",
            "showbackground": true,
            "ticks": "",
            "zerolinecolor": "white"
           },
           "zaxis": {
            "backgroundcolor": "#E5ECF6",
            "gridcolor": "white",
            "gridwidth": 2,
            "linecolor": "white",
            "showbackground": true,
            "ticks": "",
            "zerolinecolor": "white"
           }
          },
          "shapedefaults": {
           "line": {
            "color": "#2a3f5f"
           }
          },
          "ternary": {
           "aaxis": {
            "gridcolor": "white",
            "linecolor": "white",
            "ticks": ""
           },
           "baxis": {
            "gridcolor": "white",
            "linecolor": "white",
            "ticks": ""
           },
           "bgcolor": "#E5ECF6",
           "caxis": {
            "gridcolor": "white",
            "linecolor": "white",
            "ticks": ""
           }
          },
          "title": {
           "x": 0.05
          },
          "xaxis": {
           "automargin": true,
           "gridcolor": "white",
           "linecolor": "white",
           "ticks": "",
           "title": {
            "standoff": 15
           },
           "zerolinecolor": "white",
           "zerolinewidth": 2
          },
          "yaxis": {
           "automargin": true,
           "gridcolor": "white",
           "linecolor": "white",
           "ticks": "",
           "title": {
            "standoff": 15
           },
           "zerolinecolor": "white",
           "zerolinewidth": 2
          }
         }
        },
        "title": {
         "text": "QA Accuracy by Log Prob Word"
        },
        "width": 700,
        "xaxis": {
         "anchor": "y",
         "domain": [
          0,
          1
         ],
         "title": {
          "text": "Log Prob Word"
         }
        },
        "yaxis": {
         "anchor": "x",
         "domain": [
          0,
          1
         ],
         "title": {
          "text": "Accuracy"
         }
        }
       }
      }
     },
     "metadata": {},
     "output_type": "display_data"
    }
   ],
   "source": [
    "import plotly.express as px\n",
    "\n",
    "# Define the bin edges\n",
    "bin_edges = np.arange(-8, 1, 1)\n",
    "\n",
    "# Create a new column 'Bin' in the dataframe to store the bin labels\n",
    "results['Bin'] = pd.cut(results['LogProbWord'], bins=bin_edges)\n",
    "\n",
    "# Calculate the average CorrectInt and sample size for each bin\n",
    "avg_correct_int = results.groupby('Bin')['CorrectInt'].mean()\n",
    "sample_size = results.groupby('Bin').size()\n",
    "\n",
    "# Convert the bin labels to strings for plotting\n",
    "avg_correct_int.index = avg_correct_int.index.astype(str)\n",
    "\n",
    "# Create a scatter plot with Plotly Express\n",
    "fig = px.scatter(x=avg_correct_int.index, y=avg_correct_int.values, size=sample_size.values)\n",
    "\n",
    "# Update plot labels\n",
    "fig.update_layout(\n",
    "    title='QA Accuracy by Log Prob Word',\n",
    "    xaxis_title='Log Prob Word',\n",
    "    yaxis_title='Accuracy'\n",
    ")\n",
    "\n",
    "# make fig less wide\n",
    "fig.update_layout(\n",
    "    width=700,\n",
    "    height=480\n",
    ")\n",
    "\n",
    "\n",
    "# Show the plot\n",
    "fig.show()\n",
    "\n",
    "# write fig to html\n",
    "fig.write_html(\"log_prob_word.html\")"
   ]
  },
  {
   "cell_type": "code",
   "execution_count": 263,
   "metadata": {},
   "outputs": [
    {
     "name": "stderr",
     "output_type": "stream",
     "text": [
      "/var/folders/_6/_8xn00vj0gz5g10qr8khtxz40000gn/T/ipykernel_88206/1117978619.py:8: SettingWithCopyWarning:\n",
      "\n",
      "\n",
      "A value is trying to be set on a copy of a slice from a DataFrame.\n",
      "Try using .loc[row_indexer,col_indexer] = value instead\n",
      "\n",
      "See the caveats in the documentation: https://pandas.pydata.org/pandas-docs/stable/user_guide/indexing.html#returning-a-view-versus-a-copy\n",
      "\n",
      "/var/folders/_6/_8xn00vj0gz5g10qr8khtxz40000gn/T/ipykernel_88206/1117978619.py:11: FutureWarning:\n",
      "\n",
      "The default of observed=False is deprecated and will be changed to True in a future version of pandas. Pass observed=False to retain current behavior or observed=True to adopt the future default and silence this warning.\n",
      "\n",
      "/var/folders/_6/_8xn00vj0gz5g10qr8khtxz40000gn/T/ipykernel_88206/1117978619.py:12: FutureWarning:\n",
      "\n",
      "The default of observed=False is deprecated and will be changed to True in a future version of pandas. Pass observed=False to retain current behavior or observed=True to adopt the future default and silence this warning.\n",
      "\n"
     ]
    },
    {
     "data": {
      "application/vnd.plotly.v1+json": {
       "config": {
        "plotlyServerURL": "https://plot.ly"
       },
       "data": [
        {
         "hovertemplate": "x=%{x}<br>y=%{y}<br>size=%{marker.size}<extra></extra>",
         "legendgroup": "",
         "marker": {
          "color": "#636efa",
          "size": [
           90,
           488,
           321,
           381,
           380,
           211,
           231,
           228,
           77,
           51
          ],
          "sizemode": "area",
          "sizeref": 1.22,
          "symbol": "circle"
         },
         "mode": "markers",
         "name": "",
         "orientation": "v",
         "showlegend": false,
         "type": "scatter",
         "x": [
          "(0.0, 0.1]",
          "(0.1, 0.2]",
          "(0.2, 0.3]",
          "(0.3, 0.4]",
          "(0.4, 0.5]",
          "(0.5, 0.6]",
          "(0.6, 0.7]",
          "(0.7, 0.8]",
          "(0.8, 0.9]",
          "(0.9, 1.0]"
         ],
         "xaxis": "x",
         "y": [
          0.9666666666666667,
          0.9528688524590164,
          0.8878504672897196,
          0.9002624671916011,
          0.8578947368421053,
          0.8578199052132701,
          0.8354978354978355,
          0.8640350877192983,
          0.8831168831168831,
          0.7450980392156863
         ],
         "yaxis": "y"
        }
       ],
       "layout": {
        "height": 480,
        "legend": {
         "itemsizing": "constant",
         "tracegroupgap": 0
        },
        "margin": {
         "t": 60
        },
        "template": {
         "data": {
          "bar": [
           {
            "error_x": {
             "color": "#2a3f5f"
            },
            "error_y": {
             "color": "#2a3f5f"
            },
            "marker": {
             "line": {
              "color": "#E5ECF6",
              "width": 0.5
             },
             "pattern": {
              "fillmode": "overlay",
              "size": 10,
              "solidity": 0.2
             }
            },
            "type": "bar"
           }
          ],
          "barpolar": [
           {
            "marker": {
             "line": {
              "color": "#E5ECF6",
              "width": 0.5
             },
             "pattern": {
              "fillmode": "overlay",
              "size": 10,
              "solidity": 0.2
             }
            },
            "type": "barpolar"
           }
          ],
          "carpet": [
           {
            "aaxis": {
             "endlinecolor": "#2a3f5f",
             "gridcolor": "white",
             "linecolor": "white",
             "minorgridcolor": "white",
             "startlinecolor": "#2a3f5f"
            },
            "baxis": {
             "endlinecolor": "#2a3f5f",
             "gridcolor": "white",
             "linecolor": "white",
             "minorgridcolor": "white",
             "startlinecolor": "#2a3f5f"
            },
            "type": "carpet"
           }
          ],
          "choropleth": [
           {
            "colorbar": {
             "outlinewidth": 0,
             "ticks": ""
            },
            "type": "choropleth"
           }
          ],
          "contour": [
           {
            "colorbar": {
             "outlinewidth": 0,
             "ticks": ""
            },
            "colorscale": [
             [
              0,
              "#0d0887"
             ],
             [
              0.1111111111111111,
              "#46039f"
             ],
             [
              0.2222222222222222,
              "#7201a8"
             ],
             [
              0.3333333333333333,
              "#9c179e"
             ],
             [
              0.4444444444444444,
              "#bd3786"
             ],
             [
              0.5555555555555556,
              "#d8576b"
             ],
             [
              0.6666666666666666,
              "#ed7953"
             ],
             [
              0.7777777777777778,
              "#fb9f3a"
             ],
             [
              0.8888888888888888,
              "#fdca26"
             ],
             [
              1,
              "#f0f921"
             ]
            ],
            "type": "contour"
           }
          ],
          "contourcarpet": [
           {
            "colorbar": {
             "outlinewidth": 0,
             "ticks": ""
            },
            "type": "contourcarpet"
           }
          ],
          "heatmap": [
           {
            "colorbar": {
             "outlinewidth": 0,
             "ticks": ""
            },
            "colorscale": [
             [
              0,
              "#0d0887"
             ],
             [
              0.1111111111111111,
              "#46039f"
             ],
             [
              0.2222222222222222,
              "#7201a8"
             ],
             [
              0.3333333333333333,
              "#9c179e"
             ],
             [
              0.4444444444444444,
              "#bd3786"
             ],
             [
              0.5555555555555556,
              "#d8576b"
             ],
             [
              0.6666666666666666,
              "#ed7953"
             ],
             [
              0.7777777777777778,
              "#fb9f3a"
             ],
             [
              0.8888888888888888,
              "#fdca26"
             ],
             [
              1,
              "#f0f921"
             ]
            ],
            "type": "heatmap"
           }
          ],
          "heatmapgl": [
           {
            "colorbar": {
             "outlinewidth": 0,
             "ticks": ""
            },
            "colorscale": [
             [
              0,
              "#0d0887"
             ],
             [
              0.1111111111111111,
              "#46039f"
             ],
             [
              0.2222222222222222,
              "#7201a8"
             ],
             [
              0.3333333333333333,
              "#9c179e"
             ],
             [
              0.4444444444444444,
              "#bd3786"
             ],
             [
              0.5555555555555556,
              "#d8576b"
             ],
             [
              0.6666666666666666,
              "#ed7953"
             ],
             [
              0.7777777777777778,
              "#fb9f3a"
             ],
             [
              0.8888888888888888,
              "#fdca26"
             ],
             [
              1,
              "#f0f921"
             ]
            ],
            "type": "heatmapgl"
           }
          ],
          "histogram": [
           {
            "marker": {
             "pattern": {
              "fillmode": "overlay",
              "size": 10,
              "solidity": 0.2
             }
            },
            "type": "histogram"
           }
          ],
          "histogram2d": [
           {
            "colorbar": {
             "outlinewidth": 0,
             "ticks": ""
            },
            "colorscale": [
             [
              0,
              "#0d0887"
             ],
             [
              0.1111111111111111,
              "#46039f"
             ],
             [
              0.2222222222222222,
              "#7201a8"
             ],
             [
              0.3333333333333333,
              "#9c179e"
             ],
             [
              0.4444444444444444,
              "#bd3786"
             ],
             [
              0.5555555555555556,
              "#d8576b"
             ],
             [
              0.6666666666666666,
              "#ed7953"
             ],
             [
              0.7777777777777778,
              "#fb9f3a"
             ],
             [
              0.8888888888888888,
              "#fdca26"
             ],
             [
              1,
              "#f0f921"
             ]
            ],
            "type": "histogram2d"
           }
          ],
          "histogram2dcontour": [
           {
            "colorbar": {
             "outlinewidth": 0,
             "ticks": ""
            },
            "colorscale": [
             [
              0,
              "#0d0887"
             ],
             [
              0.1111111111111111,
              "#46039f"
             ],
             [
              0.2222222222222222,
              "#7201a8"
             ],
             [
              0.3333333333333333,
              "#9c179e"
             ],
             [
              0.4444444444444444,
              "#bd3786"
             ],
             [
              0.5555555555555556,
              "#d8576b"
             ],
             [
              0.6666666666666666,
              "#ed7953"
             ],
             [
              0.7777777777777778,
              "#fb9f3a"
             ],
             [
              0.8888888888888888,
              "#fdca26"
             ],
             [
              1,
              "#f0f921"
             ]
            ],
            "type": "histogram2dcontour"
           }
          ],
          "mesh3d": [
           {
            "colorbar": {
             "outlinewidth": 0,
             "ticks": ""
            },
            "type": "mesh3d"
           }
          ],
          "parcoords": [
           {
            "line": {
             "colorbar": {
              "outlinewidth": 0,
              "ticks": ""
             }
            },
            "type": "parcoords"
           }
          ],
          "pie": [
           {
            "automargin": true,
            "type": "pie"
           }
          ],
          "scatter": [
           {
            "fillpattern": {
             "fillmode": "overlay",
             "size": 10,
             "solidity": 0.2
            },
            "type": "scatter"
           }
          ],
          "scatter3d": [
           {
            "line": {
             "colorbar": {
              "outlinewidth": 0,
              "ticks": ""
             }
            },
            "marker": {
             "colorbar": {
              "outlinewidth": 0,
              "ticks": ""
             }
            },
            "type": "scatter3d"
           }
          ],
          "scattercarpet": [
           {
            "marker": {
             "colorbar": {
              "outlinewidth": 0,
              "ticks": ""
             }
            },
            "type": "scattercarpet"
           }
          ],
          "scattergeo": [
           {
            "marker": {
             "colorbar": {
              "outlinewidth": 0,
              "ticks": ""
             }
            },
            "type": "scattergeo"
           }
          ],
          "scattergl": [
           {
            "marker": {
             "colorbar": {
              "outlinewidth": 0,
              "ticks": ""
             }
            },
            "type": "scattergl"
           }
          ],
          "scattermapbox": [
           {
            "marker": {
             "colorbar": {
              "outlinewidth": 0,
              "ticks": ""
             }
            },
            "type": "scattermapbox"
           }
          ],
          "scatterpolar": [
           {
            "marker": {
             "colorbar": {
              "outlinewidth": 0,
              "ticks": ""
             }
            },
            "type": "scatterpolar"
           }
          ],
          "scatterpolargl": [
           {
            "marker": {
             "colorbar": {
              "outlinewidth": 0,
              "ticks": ""
             }
            },
            "type": "scatterpolargl"
           }
          ],
          "scatterternary": [
           {
            "marker": {
             "colorbar": {
              "outlinewidth": 0,
              "ticks": ""
             }
            },
            "type": "scatterternary"
           }
          ],
          "surface": [
           {
            "colorbar": {
             "outlinewidth": 0,
             "ticks": ""
            },
            "colorscale": [
             [
              0,
              "#0d0887"
             ],
             [
              0.1111111111111111,
              "#46039f"
             ],
             [
              0.2222222222222222,
              "#7201a8"
             ],
             [
              0.3333333333333333,
              "#9c179e"
             ],
             [
              0.4444444444444444,
              "#bd3786"
             ],
             [
              0.5555555555555556,
              "#d8576b"
             ],
             [
              0.6666666666666666,
              "#ed7953"
             ],
             [
              0.7777777777777778,
              "#fb9f3a"
             ],
             [
              0.8888888888888888,
              "#fdca26"
             ],
             [
              1,
              "#f0f921"
             ]
            ],
            "type": "surface"
           }
          ],
          "table": [
           {
            "cells": {
             "fill": {
              "color": "#EBF0F8"
             },
             "line": {
              "color": "white"
             }
            },
            "header": {
             "fill": {
              "color": "#C8D4E3"
             },
             "line": {
              "color": "white"
             }
            },
            "type": "table"
           }
          ]
         },
         "layout": {
          "annotationdefaults": {
           "arrowcolor": "#2a3f5f",
           "arrowhead": 0,
           "arrowwidth": 1
          },
          "autotypenumbers": "strict",
          "coloraxis": {
           "colorbar": {
            "outlinewidth": 0,
            "ticks": ""
           }
          },
          "colorscale": {
           "diverging": [
            [
             0,
             "#8e0152"
            ],
            [
             0.1,
             "#c51b7d"
            ],
            [
             0.2,
             "#de77ae"
            ],
            [
             0.3,
             "#f1b6da"
            ],
            [
             0.4,
             "#fde0ef"
            ],
            [
             0.5,
             "#f7f7f7"
            ],
            [
             0.6,
             "#e6f5d0"
            ],
            [
             0.7,
             "#b8e186"
            ],
            [
             0.8,
             "#7fbc41"
            ],
            [
             0.9,
             "#4d9221"
            ],
            [
             1,
             "#276419"
            ]
           ],
           "sequential": [
            [
             0,
             "#0d0887"
            ],
            [
             0.1111111111111111,
             "#46039f"
            ],
            [
             0.2222222222222222,
             "#7201a8"
            ],
            [
             0.3333333333333333,
             "#9c179e"
            ],
            [
             0.4444444444444444,
             "#bd3786"
            ],
            [
             0.5555555555555556,
             "#d8576b"
            ],
            [
             0.6666666666666666,
             "#ed7953"
            ],
            [
             0.7777777777777778,
             "#fb9f3a"
            ],
            [
             0.8888888888888888,
             "#fdca26"
            ],
            [
             1,
             "#f0f921"
            ]
           ],
           "sequentialminus": [
            [
             0,
             "#0d0887"
            ],
            [
             0.1111111111111111,
             "#46039f"
            ],
            [
             0.2222222222222222,
             "#7201a8"
            ],
            [
             0.3333333333333333,
             "#9c179e"
            ],
            [
             0.4444444444444444,
             "#bd3786"
            ],
            [
             0.5555555555555556,
             "#d8576b"
            ],
            [
             0.6666666666666666,
             "#ed7953"
            ],
            [
             0.7777777777777778,
             "#fb9f3a"
            ],
            [
             0.8888888888888888,
             "#fdca26"
            ],
            [
             1,
             "#f0f921"
            ]
           ]
          },
          "colorway": [
           "#636efa",
           "#EF553B",
           "#00cc96",
           "#ab63fa",
           "#FFA15A",
           "#19d3f3",
           "#FF6692",
           "#B6E880",
           "#FF97FF",
           "#FECB52"
          ],
          "font": {
           "color": "#2a3f5f"
          },
          "geo": {
           "bgcolor": "white",
           "lakecolor": "white",
           "landcolor": "#E5ECF6",
           "showlakes": true,
           "showland": true,
           "subunitcolor": "white"
          },
          "hoverlabel": {
           "align": "left"
          },
          "hovermode": "closest",
          "mapbox": {
           "style": "light"
          },
          "paper_bgcolor": "white",
          "plot_bgcolor": "#E5ECF6",
          "polar": {
           "angularaxis": {
            "gridcolor": "white",
            "linecolor": "white",
            "ticks": ""
           },
           "bgcolor": "#E5ECF6",
           "radialaxis": {
            "gridcolor": "white",
            "linecolor": "white",
            "ticks": ""
           }
          },
          "scene": {
           "xaxis": {
            "backgroundcolor": "#E5ECF6",
            "gridcolor": "white",
            "gridwidth": 2,
            "linecolor": "white",
            "showbackground": true,
            "ticks": "",
            "zerolinecolor": "white"
           },
           "yaxis": {
            "backgroundcolor": "#E5ECF6",
            "gridcolor": "white",
            "gridwidth": 2,
            "linecolor": "white",
            "showbackground": true,
            "ticks": "",
            "zerolinecolor": "white"
           },
           "zaxis": {
            "backgroundcolor": "#E5ECF6",
            "gridcolor": "white",
            "gridwidth": 2,
            "linecolor": "white",
            "showbackground": true,
            "ticks": "",
            "zerolinecolor": "white"
           }
          },
          "shapedefaults": {
           "line": {
            "color": "#2a3f5f"
           }
          },
          "ternary": {
           "aaxis": {
            "gridcolor": "white",
            "linecolor": "white",
            "ticks": ""
           },
           "baxis": {
            "gridcolor": "white",
            "linecolor": "white",
            "ticks": ""
           },
           "bgcolor": "#E5ECF6",
           "caxis": {
            "gridcolor": "white",
            "linecolor": "white",
            "ticks": ""
           }
          },
          "title": {
           "x": 0.05
          },
          "xaxis": {
           "automargin": true,
           "gridcolor": "white",
           "linecolor": "white",
           "ticks": "",
           "title": {
            "standoff": 15
           },
           "zerolinecolor": "white",
           "zerolinewidth": 2
          },
          "yaxis": {
           "automargin": true,
           "gridcolor": "white",
           "linecolor": "white",
           "ticks": "",
           "title": {
            "standoff": 15
           },
           "zerolinecolor": "white",
           "zerolinewidth": 2
          }
         }
        },
        "title": {
         "text": "QA Accuracy by Normalized Edit Distance"
        },
        "width": 700,
        "xaxis": {
         "anchor": "y",
         "domain": [
          0,
          1
         ],
         "tickangle": -45,
         "title": {
          "text": "Edit Distance"
         }
        },
        "yaxis": {
         "anchor": "x",
         "domain": [
          0,
          1
         ],
         "title": {
          "text": "Accuracy"
         }
        }
       }
      }
     },
     "metadata": {},
     "output_type": "display_data"
    }
   ],
   "source": [
    "import plotly.express as px\n",
    "\n",
    "# Define the bin edges\n",
    "bin_edges = np.arange(0, 1.1, .1)\n",
    "\n",
    "\n",
    "# Create a new column 'Bin' in the dataframe to store the bin labels\n",
    "results['Bin'] = pd.cut(results['NormalizedEditDistance'], bins=bin_edges)\n",
    "\n",
    "# Calculate the average CorrectInt and sample size for each bin\n",
    "avg_correct_int = results.groupby('Bin')['CorrectInt'].mean()\n",
    "sample_size = results.groupby('Bin').size()\n",
    "\n",
    "# Convert the bin labels to strings for plotting\n",
    "avg_correct_int.index = avg_correct_int.index.astype(str)\n",
    "\n",
    "# Create a scatter plot with Plotly Express\n",
    "fig = px.scatter(x=avg_correct_int.index, y=avg_correct_int.values, size=sample_size.values)\n",
    "\n",
    "# Update plot labels\n",
    "fig.update_layout(\n",
    "    title='QA Accuracy by Normalized Edit Distance',\n",
    "    xaxis_title='Normalized Edit Distance',\n",
    "    yaxis_title='Accuracy'\n",
    ")\n",
    "\n",
    "# make fig less wide\n",
    "fig.update_layout(\n",
    "    width=700,\n",
    "    height=480\n",
    ")\n",
    "# rotate x axis labels\n",
    "fig.update_layout(xaxis_tickangle=-45)\n",
    "\n",
    "# Show the plot\n",
    "fig.show()\n",
    "\n",
    "# write fig to html\n",
    "fig.write_html(\"edit_distance.html\")"
   ]
  },
  {
   "cell_type": "code",
   "execution_count": 242,
   "metadata": {},
   "outputs": [],
   "source": [
    "import pandas as pd\n",
    "import numpy as np\n",
    "import seaborn as sns\n",
    "import matplotlib.pyplot as plt\n",
    "\n",
    "# Define the bin edges for LogProbWord and NormalizedEditDistance\n",
    "logprobword_bins = [-8, -6, -4.5, -3, -1.5, 0]\n",
    "normalizededitdistance_bins = [0, .2, .4, .6, .8, 1]\n"
   ]
  },
  {
   "cell_type": "code",
   "execution_count": 243,
   "metadata": {},
   "outputs": [
    {
     "name": "stderr",
     "output_type": "stream",
     "text": [
      "/var/folders/_6/_8xn00vj0gz5g10qr8khtxz40000gn/T/ipykernel_88206/2419999184.py:2: SettingWithCopyWarning:\n",
      "\n",
      "\n",
      "A value is trying to be set on a copy of a slice from a DataFrame.\n",
      "Try using .loc[row_indexer,col_indexer] = value instead\n",
      "\n",
      "See the caveats in the documentation: https://pandas.pydata.org/pandas-docs/stable/user_guide/indexing.html#returning-a-view-versus-a-copy\n",
      "\n",
      "/var/folders/_6/_8xn00vj0gz5g10qr8khtxz40000gn/T/ipykernel_88206/2419999184.py:3: SettingWithCopyWarning:\n",
      "\n",
      "\n",
      "A value is trying to be set on a copy of a slice from a DataFrame.\n",
      "Try using .loc[row_indexer,col_indexer] = value instead\n",
      "\n",
      "See the caveats in the documentation: https://pandas.pydata.org/pandas-docs/stable/user_guide/indexing.html#returning-a-view-versus-a-copy\n",
      "\n",
      "/var/folders/_6/_8xn00vj0gz5g10qr8khtxz40000gn/T/ipykernel_88206/2419999184.py:6: FutureWarning:\n",
      "\n",
      "The default of observed=False is deprecated and will be changed to True in a future version of pandas. Pass observed=False to retain current behavior or observed=True to adopt the future default and silence this warning.\n",
      "\n"
     ]
    },
    {
     "data": {
      "image/png": "[encoded data removed]",
      "text/plain": [
       "<Figure size 640x480 with 2 Axes>"
      ]
     },
     "metadata": {},
     "output_type": "display_data"
    }
   ],
   "source": [
    "# Bin the results based on LogProbWord and NormalizedEditDistance\n",
    "results['LogProbWordBin'] = pd.cut(results['LogProbWord'], bins=logprobword_bins)\n",
    "results['NormalizedEditDistanceBin'] = pd.cut(results['NormalizedEditDistance'], bins=normalizededitdistance_bins)\n",
    "\n",
    "# Calculate the average CorrectInt for each bin\n",
    "avg_correct_int = results.groupby(['LogProbWordBin', 'NormalizedEditDistanceBin'])['CorrectInt'].mean().reset_index()\n",
    "\n",
    "# Pivot the data for heatmap\n",
    "heatmap_data = avg_correct_int.pivot(index=\"LogProbWordBin\", columns=\"NormalizedEditDistanceBin\", values=\"CorrectInt\")\n",
    "\n",
    "# Create the heatmap\n",
    "sns.heatmap(heatmap_data, cmap=\"viridis\", annot=True)\n",
    "\n",
    "\n",
    "# Set labels and title\n",
    "plt.xlabel('Normalized Edit Distance')\n",
    "# change xtick labels manually\n",
    "plt.xticks(rotation=45)\n",
    "plt.yticks(rotation=45)\n",
    "plt.ylabel('Log Prob Word')\n",
    "plt.title('CommonSenseQA Accuracy')\n",
    "\n",
    "# Show the plot\n",
    "plt.show()"
   ]
  },
  {
   "cell_type": "code",
   "execution_count": 244,
   "metadata": {},
   "outputs": [
    {
     "name": "stderr",
     "output_type": "stream",
     "text": [
      "/var/folders/_6/_8xn00vj0gz5g10qr8khtxz40000gn/T/ipykernel_88206/2710689772.py:2: SettingWithCopyWarning:\n",
      "\n",
      "\n",
      "A value is trying to be set on a copy of a slice from a DataFrame.\n",
      "Try using .loc[row_indexer,col_indexer] = value instead\n",
      "\n",
      "See the caveats in the documentation: https://pandas.pydata.org/pandas-docs/stable/user_guide/indexing.html#returning-a-view-versus-a-copy\n",
      "\n",
      "/var/folders/_6/_8xn00vj0gz5g10qr8khtxz40000gn/T/ipykernel_88206/2710689772.py:3: SettingWithCopyWarning:\n",
      "\n",
      "\n",
      "A value is trying to be set on a copy of a slice from a DataFrame.\n",
      "Try using .loc[row_indexer,col_indexer] = value instead\n",
      "\n",
      "See the caveats in the documentation: https://pandas.pydata.org/pandas-docs/stable/user_guide/indexing.html#returning-a-view-versus-a-copy\n",
      "\n",
      "/var/folders/_6/_8xn00vj0gz5g10qr8khtxz40000gn/T/ipykernel_88206/2710689772.py:6: FutureWarning:\n",
      "\n",
      "The default of observed=False is deprecated and will be changed to True in a future version of pandas. Pass observed=False to retain current behavior or observed=True to adopt the future default and silence this warning.\n",
      "\n"
     ]
    },
    {
     "data": {
      "image/png": "[encoded data removed]",
      "text/plain": [
       "<Figure size 640x480 with 2 Axes>"
      ]
     },
     "metadata": {},
     "output_type": "display_data"
    }
   ],
   "source": [
    "# Bin the results based on LogProbWord and NormalizedEditDistance\n",
    "results['LogProbWordBin'] = pd.cut(results['LogProbWord'], bins=logprobword_bins)\n",
    "results['NormalizedEditDistanceBin'] = pd.cut(results['NormalizedEditDistance'], bins=normalizededitdistance_bins)\n",
    "\n",
    "# Calculate the average CorrectInt for each bin\n",
    "avg_correct_int = results.groupby(['LogProbWordBin', 'NormalizedEditDistanceBin'])['CorrectedCorrectInt'].mean().reset_index()\n",
    "\n",
    "# Pivot the data for heatmap\n",
    "heatmap_data = avg_correct_int.pivot(index=\"LogProbWordBin\", columns=\"NormalizedEditDistanceBin\", values=\"CorrectedCorrectInt\")\n",
    "\n",
    "# Create the heatmap\n",
    "sns.heatmap(heatmap_data, cmap=\"viridis\", annot=True)\n",
    "\n",
    "\n",
    "# Set labels and title\n",
    "plt.xlabel('Normalized Edit Distance')\n",
    "# change xtick labels manually\n",
    "plt.xticks(rotation=45)\n",
    "plt.yticks(rotation=45)\n",
    "plt.ylabel('Log Prob Word')\n",
    "plt.title('CommonSenseQA Accuracy Post-Spellcheck')\n",
    "\n",
    "# Show the plot\n",
    "plt.show()"
   ]
  },
  {
   "cell_type": "code",
   "execution_count": 245,
   "metadata": {},
   "outputs": [
    {
     "data": {
      "text/plain": [
       "(0.888120423108218, 0.919853539462978)"
      ]
     },
     "execution_count": 245,
     "metadata": {},
     "output_type": "execute_result"
    }
   ],
   "source": [
    "results['CorrectInt'].mean(), results['CorrectedCorrectInt'].mean()"
   ]
  },
  {
   "cell_type": "code",
   "execution_count": null,
   "metadata": {},
   "outputs": [],
   "source": []
  },
  {
   "cell_type": "code",
   "execution_count": null,
   "metadata": {},
   "outputs": [],
   "source": []
  }
 ],
 "metadata": {
  "kernelspec": {
   "display_name": "Python 3",
   "language": "python",
   "name": "python3"
  },
  "language_info": {
   "codemirror_mode": {
    "name": "ipython",
    "version": 3
   },
   "file_extension": ".py",
   "mimetype": "text/x-python",
   "name": "python",
   "nbconvert_exporter": "python",
   "pygments_lexer": "ipython3",
   "version": "3.11.1"
  }
 },
 "nbformat": 4,
 "nbformat_minor": 2
}
